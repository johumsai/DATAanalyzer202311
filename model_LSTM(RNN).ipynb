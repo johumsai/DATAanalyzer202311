{
 "cells": [
  {
   "cell_type": "code",
   "execution_count": 268,
   "metadata": {},
   "outputs": [],
   "source": [
    "import pandas as pd\n",
    "import numpy as np\n",
    "import matplotlib.pyplot as plt\n",
    "from sklearn.preprocessing import MinMaxScaler #how to install : pip install scikit-learn"
   ]
  },
  {
   "cell_type": "code",
   "execution_count": 224,
   "metadata": {},
   "outputs": [
    {
     "name": "stdout",
     "output_type": "stream",
     "text": [
      "Defaulting to user installation because normal site-packages is not writeable\n",
      "Requirement already satisfied: matplotlib in c:\\users\\home\\appdata\\roaming\\python\\python310\\site-packages (3.8.1)\n",
      "Requirement already satisfied: contourpy>=1.0.1 in c:\\users\\home\\appdata\\roaming\\python\\python310\\site-packages (from matplotlib) (1.2.0)\n",
      "Requirement already satisfied: cycler>=0.10 in c:\\users\\home\\appdata\\roaming\\python\\python310\\site-packages (from matplotlib) (0.12.1)\n",
      "Requirement already satisfied: fonttools>=4.22.0 in c:\\users\\home\\appdata\\roaming\\python\\python310\\site-packages (from matplotlib) (4.44.0)\n",
      "Requirement already satisfied: kiwisolver>=1.3.1 in c:\\users\\home\\appdata\\roaming\\python\\python310\\site-packages (from matplotlib) (1.4.5)\n",
      "Requirement already satisfied: numpy<2,>=1.21 in c:\\users\\home\\appdata\\roaming\\python\\python310\\site-packages (from matplotlib) (1.25.2)\n",
      "Requirement already satisfied: packaging>=20.0 in c:\\program files\\python310\\lib\\site-packages (from matplotlib) (23.1)\n",
      "Requirement already satisfied: pillow>=8 in c:\\users\\home\\appdata\\roaming\\python\\python310\\site-packages (from matplotlib) (10.1.0)\n",
      "Requirement already satisfied: pyparsing>=2.3.1 in c:\\users\\home\\appdata\\roaming\\python\\python310\\site-packages (from matplotlib) (3.1.1)\n",
      "Requirement already satisfied: python-dateutil>=2.7 in c:\\program files\\python310\\lib\\site-packages (from matplotlib) (2.8.2)\n",
      "Requirement already satisfied: six>=1.5 in c:\\program files\\python310\\lib\\site-packages (from python-dateutil>=2.7->matplotlib) (1.16.0)\n"
     ]
    }
   ],
   "source": [
    "# !pip install matplotlib"
   ]
  },
  {
   "cell_type": "code",
   "execution_count": 8,
   "metadata": {},
   "outputs": [
    {
     "data": {
      "text/html": [
       "<div>\n",
       "<style scoped>\n",
       "    .dataframe tbody tr th:only-of-type {\n",
       "        vertical-align: middle;\n",
       "    }\n",
       "\n",
       "    .dataframe tbody tr th {\n",
       "        vertical-align: top;\n",
       "    }\n",
       "\n",
       "    .dataframe thead th {\n",
       "        text-align: right;\n",
       "    }\n",
       "</style>\n",
       "<table border=\"1\" class=\"dataframe\">\n",
       "  <thead>\n",
       "    <tr style=\"text-align: right;\">\n",
       "      <th></th>\n",
       "      <th>일시</th>\n",
       "      <th>측정소명</th>\n",
       "      <th>풍향</th>\n",
       "      <th>풍속</th>\n",
       "      <th>온도</th>\n",
       "      <th>습도</th>\n",
       "      <th>강수량</th>\n",
       "      <th>PM</th>\n",
       "    </tr>\n",
       "  </thead>\n",
       "  <tbody>\n",
       "    <tr>\n",
       "      <th>1</th>\n",
       "      <td>2021-01-01 01:00:00</td>\n",
       "      <td>강남</td>\n",
       "      <td>327.0</td>\n",
       "      <td>1.3</td>\n",
       "      <td>-7.0</td>\n",
       "      <td>55.0</td>\n",
       "      <td>0.0</td>\n",
       "      <td>13.0</td>\n",
       "    </tr>\n",
       "    <tr>\n",
       "      <th>2</th>\n",
       "      <td>2021-01-01 02:00:00</td>\n",
       "      <td>강남</td>\n",
       "      <td>309.0</td>\n",
       "      <td>1.1</td>\n",
       "      <td>-6.8</td>\n",
       "      <td>55.0</td>\n",
       "      <td>0.0</td>\n",
       "      <td>13.0</td>\n",
       "    </tr>\n",
       "    <tr>\n",
       "      <th>3</th>\n",
       "      <td>2021-01-01 03:00:00</td>\n",
       "      <td>강남</td>\n",
       "      <td>45.0</td>\n",
       "      <td>0.9</td>\n",
       "      <td>-7.0</td>\n",
       "      <td>57.0</td>\n",
       "      <td>0.0</td>\n",
       "      <td>12.0</td>\n",
       "    </tr>\n",
       "    <tr>\n",
       "      <th>4</th>\n",
       "      <td>2021-01-01 04:00:00</td>\n",
       "      <td>강남</td>\n",
       "      <td>304.0</td>\n",
       "      <td>0.6</td>\n",
       "      <td>-7.5</td>\n",
       "      <td>57.0</td>\n",
       "      <td>0.0</td>\n",
       "      <td>13.0</td>\n",
       "    </tr>\n",
       "    <tr>\n",
       "      <th>5</th>\n",
       "      <td>2021-01-01 05:00:00</td>\n",
       "      <td>강남</td>\n",
       "      <td>82.0</td>\n",
       "      <td>0.8</td>\n",
       "      <td>-7.7</td>\n",
       "      <td>60.0</td>\n",
       "      <td>0.0</td>\n",
       "      <td>14.0</td>\n",
       "    </tr>\n",
       "  </tbody>\n",
       "</table>\n",
       "</div>"
      ],
      "text/plain": [
       "                    일시 측정소명     풍향   풍속   온도    습도  강수량    PM\n",
       "1  2021-01-01 01:00:00   강남  327.0  1.3 -7.0  55.0  0.0  13.0\n",
       "2  2021-01-01 02:00:00   강남  309.0  1.1 -6.8  55.0  0.0  13.0\n",
       "3  2021-01-01 03:00:00   강남   45.0  0.9 -7.0  57.0  0.0  12.0\n",
       "4  2021-01-01 04:00:00   강남  304.0  0.6 -7.5  57.0  0.0  13.0\n",
       "5  2021-01-01 05:00:00   강남   82.0  0.8 -7.7  60.0  0.0  14.0"
      ]
     },
     "execution_count": 8,
     "metadata": {},
     "output_type": "execute_result"
    }
   ],
   "source": [
    "df = pd.read_pickle('./total_df.pkl')\n",
    "df.head()"
   ]
  },
  {
   "cell_type": "code",
   "execution_count": 213,
   "metadata": {},
   "outputs": [
    {
     "name": "stdout",
     "output_type": "stream",
     "text": [
      "<class 'pandas.core.frame.DataFrame'>\n",
      "Index: 24071 entries, 2021-01-01 01:00:00 to 2023-09-30 23:00:00\n",
      "Data columns (total 22 columns):\n",
      " #   Column  Non-Null Count  Dtype  \n",
      "---  ------  --------------  -----  \n",
      " 0   강남      24071 non-null  float64\n",
      " 1   강동      24071 non-null  float64\n",
      " 2   강북      24071 non-null  float64\n",
      " 3   강서      24071 non-null  float64\n",
      " 4   관악      24071 non-null  float64\n",
      " 5   광진      24071 non-null  float64\n",
      " 6   구로      24071 non-null  float64\n",
      " 7   금천      24071 non-null  float64\n",
      " 8   노원      24071 non-null  float64\n",
      " 9   도봉      24071 non-null  float64\n",
      " 10  동대문     24071 non-null  float64\n",
      " 11  마포      24071 non-null  float64\n",
      " 12  서대문     24069 non-null  float64\n",
      " 13  서초      24071 non-null  float64\n",
      " 14  성동      24071 non-null  float64\n",
      " 15  성북      24070 non-null  float64\n",
      " 16  송파      23983 non-null  float64\n",
      " 17  양천      24071 non-null  float64\n",
      " 18  용산      24071 non-null  float64\n",
      " 19  은평      24071 non-null  float64\n",
      " 20  중구      24071 non-null  float64\n",
      " 21  중랑      24071 non-null  float64\n",
      "dtypes: float64(22)\n",
      "memory usage: 4.2+ MB\n"
     ]
    }
   ],
   "source": [
    "pvt22 = df.pivot(index = ['일시'], columns = '측정소명', values = 'PM')\n",
    "pvt22.head()\n",
    "pvt22.info()"
   ]
  },
  {
   "cell_type": "code",
   "execution_count": 211,
   "metadata": {},
   "outputs": [
    {
     "name": "stdout",
     "output_type": "stream",
     "text": [
      "<class 'pandas.core.frame.DataFrame'>\n",
      "Index: 24071 entries, 2021-01-01 01:00:00 to 2023-09-30 23:00:00\n",
      "Data columns (total 4 columns):\n",
      " #   Column  Non-Null Count  Dtype  \n",
      "---  ------  --------------  -----  \n",
      " 0   양천      24071 non-null  float64\n",
      " 1   강서      24071 non-null  float64\n",
      " 2   구로      24071 non-null  float64\n",
      " 3   마포      24071 non-null  float64\n",
      "dtypes: float64(4)\n",
      "memory usage: 940.3+ KB\n"
     ]
    }
   ],
   "source": [
    "df_group1 = pvt22[['양천','강서','구로','마포']]\n",
    "df_group1.info()\n",
    "# df_group1[:].values"
   ]
  },
  {
   "cell_type": "code",
   "execution_count": 79,
   "metadata": {},
   "outputs": [
    {
     "data": {
      "text/html": [
       "<div>\n",
       "<style scoped>\n",
       "    .dataframe tbody tr th:only-of-type {\n",
       "        vertical-align: middle;\n",
       "    }\n",
       "\n",
       "    .dataframe tbody tr th {\n",
       "        vertical-align: top;\n",
       "    }\n",
       "\n",
       "    .dataframe thead th {\n",
       "        text-align: right;\n",
       "    }\n",
       "</style>\n",
       "<table border=\"1\" class=\"dataframe\">\n",
       "  <thead>\n",
       "    <tr style=\"text-align: right;\">\n",
       "      <th>측정소명</th>\n",
       "      <th>양천</th>\n",
       "      <th>강서</th>\n",
       "      <th>구로</th>\n",
       "      <th>마포</th>\n",
       "    </tr>\n",
       "    <tr>\n",
       "      <th>일시</th>\n",
       "      <th></th>\n",
       "      <th></th>\n",
       "      <th></th>\n",
       "      <th></th>\n",
       "    </tr>\n",
       "  </thead>\n",
       "  <tbody>\n",
       "    <tr>\n",
       "      <th>2021-01-01 01:00:00</th>\n",
       "      <td>11.0</td>\n",
       "      <td>11.0</td>\n",
       "      <td>8.0</td>\n",
       "      <td>8.0</td>\n",
       "    </tr>\n",
       "    <tr>\n",
       "      <th>2021-01-01 02:00:00</th>\n",
       "      <td>12.0</td>\n",
       "      <td>12.0</td>\n",
       "      <td>6.0</td>\n",
       "      <td>10.0</td>\n",
       "    </tr>\n",
       "    <tr>\n",
       "      <th>2021-01-01 03:00:00</th>\n",
       "      <td>13.0</td>\n",
       "      <td>14.0</td>\n",
       "      <td>6.0</td>\n",
       "      <td>10.0</td>\n",
       "    </tr>\n",
       "    <tr>\n",
       "      <th>2021-01-01 04:00:00</th>\n",
       "      <td>12.0</td>\n",
       "      <td>12.0</td>\n",
       "      <td>7.0</td>\n",
       "      <td>10.0</td>\n",
       "    </tr>\n",
       "    <tr>\n",
       "      <th>2021-01-01 05:00:00</th>\n",
       "      <td>13.0</td>\n",
       "      <td>12.0</td>\n",
       "      <td>12.0</td>\n",
       "      <td>10.0</td>\n",
       "    </tr>\n",
       "    <tr>\n",
       "      <th>...</th>\n",
       "      <td>...</td>\n",
       "      <td>...</td>\n",
       "      <td>...</td>\n",
       "      <td>...</td>\n",
       "    </tr>\n",
       "    <tr>\n",
       "      <th>2023-09-30 19:00:00</th>\n",
       "      <td>10.0</td>\n",
       "      <td>12.0</td>\n",
       "      <td>5.0</td>\n",
       "      <td>16.0</td>\n",
       "    </tr>\n",
       "    <tr>\n",
       "      <th>2023-09-30 20:00:00</th>\n",
       "      <td>10.0</td>\n",
       "      <td>12.0</td>\n",
       "      <td>5.0</td>\n",
       "      <td>16.0</td>\n",
       "    </tr>\n",
       "    <tr>\n",
       "      <th>2023-09-30 21:00:00</th>\n",
       "      <td>10.0</td>\n",
       "      <td>12.0</td>\n",
       "      <td>5.0</td>\n",
       "      <td>16.0</td>\n",
       "    </tr>\n",
       "    <tr>\n",
       "      <th>2023-09-30 22:00:00</th>\n",
       "      <td>10.0</td>\n",
       "      <td>12.0</td>\n",
       "      <td>5.0</td>\n",
       "      <td>16.0</td>\n",
       "    </tr>\n",
       "    <tr>\n",
       "      <th>2023-09-30 23:00:00</th>\n",
       "      <td>10.0</td>\n",
       "      <td>12.0</td>\n",
       "      <td>5.0</td>\n",
       "      <td>16.0</td>\n",
       "    </tr>\n",
       "  </tbody>\n",
       "</table>\n",
       "<p>24071 rows × 4 columns</p>\n",
       "</div>"
      ],
      "text/plain": [
       "측정소명                   양천    강서    구로    마포\n",
       "일시                                         \n",
       "2021-01-01 01:00:00  11.0  11.0   8.0   8.0\n",
       "2021-01-01 02:00:00  12.0  12.0   6.0  10.0\n",
       "2021-01-01 03:00:00  13.0  14.0   6.0  10.0\n",
       "2021-01-01 04:00:00  12.0  12.0   7.0  10.0\n",
       "2021-01-01 05:00:00  13.0  12.0  12.0  10.0\n",
       "...                   ...   ...   ...   ...\n",
       "2023-09-30 19:00:00  10.0  12.0   5.0  16.0\n",
       "2023-09-30 20:00:00  10.0  12.0   5.0  16.0\n",
       "2023-09-30 21:00:00  10.0  12.0   5.0  16.0\n",
       "2023-09-30 22:00:00  10.0  12.0   5.0  16.0\n",
       "2023-09-30 23:00:00  10.0  12.0   5.0  16.0\n",
       "\n",
       "[24071 rows x 4 columns]"
      ]
     },
     "execution_count": 79,
     "metadata": {},
     "output_type": "execute_result"
    }
   ],
   "source": [
    "df_group1"
   ]
  },
  {
   "cell_type": "code",
   "execution_count": 320,
   "metadata": {},
   "outputs": [
    {
     "data": {
      "text/plain": [
       "array([[11., 11.,  8.,  8.],\n",
       "       [12., 12.,  6., 10.],\n",
       "       [13., 14.,  6., 10.],\n",
       "       ...,\n",
       "       [10., 12.,  5., 16.],\n",
       "       [10., 12.,  5., 16.],\n",
       "       [10., 12.,  5., 16.]])"
      ]
     },
     "execution_count": 320,
     "metadata": {},
     "output_type": "execute_result"
    }
   ],
   "source": [
    "df_temp_onlypmvalues = df_group1[:].values\n",
    "df_temp_onlypmvalues"
   ]
  },
  {
   "cell_type": "code",
   "execution_count": 11,
   "metadata": {},
   "outputs": [
    {
     "name": "stdout",
     "output_type": "stream",
     "text": [
      "<class 'pandas.core.frame.DataFrame'>\n",
      "Index: 24071 entries, 2021-01-01 01:00:00 to 2023-09-30 23:00:00\n",
      "Data columns (total 4 columns):\n",
      " #   Column  Non-Null Count  Dtype  \n",
      "---  ------  --------------  -----  \n",
      " 0   양천      24071 non-null  float64\n",
      " 1   강서      24071 non-null  float64\n",
      " 2   구로      24071 non-null  float64\n",
      " 3   마포      24071 non-null  float64\n",
      "dtypes: float64(4)\n",
      "memory usage: 940.3+ KB\n"
     ]
    }
   ],
   "source": [
    "df_group1.info()"
   ]
  },
  {
   "cell_type": "code",
   "execution_count": 78,
   "metadata": {},
   "outputs": [
    {
     "data": {
      "text/html": [
       "<div>\n",
       "<style scoped>\n",
       "    .dataframe tbody tr th:only-of-type {\n",
       "        vertical-align: middle;\n",
       "    }\n",
       "\n",
       "    .dataframe tbody tr th {\n",
       "        vertical-align: top;\n",
       "    }\n",
       "\n",
       "    .dataframe thead th {\n",
       "        text-align: right;\n",
       "    }\n",
       "</style>\n",
       "<table border=\"1\" class=\"dataframe\">\n",
       "  <thead>\n",
       "    <tr style=\"text-align: right;\">\n",
       "      <th>측정소명</th>\n",
       "      <th>양천</th>\n",
       "      <th>강서</th>\n",
       "      <th>구로</th>\n",
       "      <th>마포</th>\n",
       "    </tr>\n",
       "    <tr>\n",
       "      <th>일시</th>\n",
       "      <th></th>\n",
       "      <th></th>\n",
       "      <th></th>\n",
       "      <th></th>\n",
       "    </tr>\n",
       "  </thead>\n",
       "  <tbody>\n",
       "    <tr>\n",
       "      <th>2021-01-01 01:00:00</th>\n",
       "      <td>11.0</td>\n",
       "      <td>11.0</td>\n",
       "      <td>8.0</td>\n",
       "      <td>8.0</td>\n",
       "    </tr>\n",
       "    <tr>\n",
       "      <th>2021-01-01 02:00:00</th>\n",
       "      <td>12.0</td>\n",
       "      <td>12.0</td>\n",
       "      <td>6.0</td>\n",
       "      <td>10.0</td>\n",
       "    </tr>\n",
       "    <tr>\n",
       "      <th>2021-01-01 03:00:00</th>\n",
       "      <td>13.0</td>\n",
       "      <td>14.0</td>\n",
       "      <td>6.0</td>\n",
       "      <td>10.0</td>\n",
       "    </tr>\n",
       "    <tr>\n",
       "      <th>2021-01-01 04:00:00</th>\n",
       "      <td>12.0</td>\n",
       "      <td>12.0</td>\n",
       "      <td>7.0</td>\n",
       "      <td>10.0</td>\n",
       "    </tr>\n",
       "    <tr>\n",
       "      <th>2021-01-01 05:00:00</th>\n",
       "      <td>13.0</td>\n",
       "      <td>12.0</td>\n",
       "      <td>12.0</td>\n",
       "      <td>10.0</td>\n",
       "    </tr>\n",
       "  </tbody>\n",
       "</table>\n",
       "</div>"
      ],
      "text/plain": [
       "측정소명                   양천    강서    구로    마포\n",
       "일시                                         \n",
       "2021-01-01 01:00:00  11.0  11.0   8.0   8.0\n",
       "2021-01-01 02:00:00  12.0  12.0   6.0  10.0\n",
       "2021-01-01 03:00:00  13.0  14.0   6.0  10.0\n",
       "2021-01-01 04:00:00  12.0  12.0   7.0  10.0\n",
       "2021-01-01 05:00:00  13.0  12.0  12.0  10.0"
      ]
     },
     "execution_count": 78,
     "metadata": {},
     "output_type": "execute_result"
    }
   ],
   "source": [
    "# df_temp = df_group1.head(100)\n",
    "df_temp = df_group1.head()\n",
    "df_temp"
   ]
  },
  {
   "cell_type": "code",
   "execution_count": 210,
   "metadata": {},
   "outputs": [
    {
     "data": {
      "text/html": [
       "<div>\n",
       "<style scoped>\n",
       "    .dataframe tbody tr th:only-of-type {\n",
       "        vertical-align: middle;\n",
       "    }\n",
       "\n",
       "    .dataframe tbody tr th {\n",
       "        vertical-align: top;\n",
       "    }\n",
       "\n",
       "    .dataframe thead th {\n",
       "        text-align: right;\n",
       "    }\n",
       "</style>\n",
       "<table border=\"1\" class=\"dataframe\">\n",
       "  <thead>\n",
       "    <tr style=\"text-align: right;\">\n",
       "      <th>측정소명</th>\n",
       "      <th>양천</th>\n",
       "      <th>강서</th>\n",
       "      <th>구로</th>\n",
       "      <th>마포</th>\n",
       "    </tr>\n",
       "    <tr>\n",
       "      <th>일시</th>\n",
       "      <th></th>\n",
       "      <th></th>\n",
       "      <th></th>\n",
       "      <th></th>\n",
       "    </tr>\n",
       "  </thead>\n",
       "  <tbody>\n",
       "    <tr>\n",
       "      <th>2021-01-01 01:00:00</th>\n",
       "      <td>NaN</td>\n",
       "      <td>NaN</td>\n",
       "      <td>NaN</td>\n",
       "      <td>NaN</td>\n",
       "    </tr>\n",
       "    <tr>\n",
       "      <th>2021-01-01 02:00:00</th>\n",
       "      <td>11.0</td>\n",
       "      <td>11.0</td>\n",
       "      <td>8.0</td>\n",
       "      <td>8.0</td>\n",
       "    </tr>\n",
       "    <tr>\n",
       "      <th>2021-01-01 03:00:00</th>\n",
       "      <td>12.0</td>\n",
       "      <td>12.0</td>\n",
       "      <td>6.0</td>\n",
       "      <td>10.0</td>\n",
       "    </tr>\n",
       "    <tr>\n",
       "      <th>2021-01-01 04:00:00</th>\n",
       "      <td>13.0</td>\n",
       "      <td>14.0</td>\n",
       "      <td>6.0</td>\n",
       "      <td>10.0</td>\n",
       "    </tr>\n",
       "    <tr>\n",
       "      <th>2021-01-01 05:00:00</th>\n",
       "      <td>12.0</td>\n",
       "      <td>12.0</td>\n",
       "      <td>7.0</td>\n",
       "      <td>10.0</td>\n",
       "    </tr>\n",
       "  </tbody>\n",
       "</table>\n",
       "</div>"
      ],
      "text/plain": [
       "측정소명                   양천    강서   구로    마포\n",
       "일시                                        \n",
       "2021-01-01 01:00:00   NaN   NaN  NaN   NaN\n",
       "2021-01-01 02:00:00  11.0  11.0  8.0   8.0\n",
       "2021-01-01 03:00:00  12.0  12.0  6.0  10.0\n",
       "2021-01-01 04:00:00  13.0  14.0  6.0  10.0\n",
       "2021-01-01 05:00:00  12.0  12.0  7.0  10.0"
      ]
     },
     "execution_count": 210,
     "metadata": {},
     "output_type": "execute_result"
    }
   ],
   "source": [
    "df_temp.shift(1)"
   ]
  },
  {
   "cell_type": "code",
   "execution_count": 65,
   "metadata": {},
   "outputs": [
    {
     "data": {
      "text/plain": [
       "<bound method NDFrame.head of 측정소명                   양천    강서    구로    마포\n",
       "일시                                         \n",
       "2021-01-01 01:00:00  11.0  11.0   8.0   8.0\n",
       "2021-01-01 02:00:00  12.0  12.0   6.0  10.0\n",
       "2021-01-01 03:00:00  13.0  14.0   6.0  10.0\n",
       "2021-01-01 04:00:00  12.0  12.0   7.0  10.0\n",
       "2021-01-01 05:00:00  13.0  12.0  12.0  10.0\n",
       "...                   ...   ...   ...   ...\n",
       "2023-09-30 19:00:00  10.0  12.0   5.0  16.0\n",
       "2023-09-30 20:00:00  10.0  12.0   5.0  16.0\n",
       "2023-09-30 21:00:00  10.0  12.0   5.0  16.0\n",
       "2023-09-30 22:00:00  10.0  12.0   5.0  16.0\n",
       "2023-09-30 23:00:00  10.0  12.0   5.0  16.0\n",
       "\n",
       "[24071 rows x 4 columns]>"
      ]
     },
     "execution_count": 65,
     "metadata": {},
     "output_type": "execute_result"
    }
   ],
   "source": [
    "df_temp"
   ]
  },
  {
   "cell_type": "code",
   "execution_count": 59,
   "metadata": {},
   "outputs": [],
   "source": [
    "# df_temp1 = np.array(df_temp)"
   ]
  },
  {
   "cell_type": "markdown",
   "metadata": {},
   "source": [
    "### train data 준비하기 ###"
   ]
  },
  {
   "cell_type": "markdown",
   "metadata": {},
   "source": [
    "### 데이터의 차원(dimentionality) 저주를 방지하기 위해, scaling 수행 ####"
   ]
  },
  {
   "cell_type": "markdown",
   "metadata": {},
   "source": [
    "### scaling x_data, y_data 각각 수행 ###"
   ]
  },
  {
   "cell_type": "code",
   "execution_count": 321,
   "metadata": {},
   "outputs": [
    {
     "name": "stdout",
     "output_type": "stream",
     "text": [
      "(24071, 3)\n",
      "(24071,)\n"
     ]
    },
    {
     "data": {
      "text/plain": [
       "array([[11.,  8.,  8.],\n",
       "       [12.,  6., 10.],\n",
       "       [14.,  6., 10.],\n",
       "       ...,\n",
       "       [12.,  5., 16.],\n",
       "       [12.,  5., 16.],\n",
       "       [12.,  5., 16.]])"
      ]
     },
     "execution_count": 321,
     "metadata": {},
     "output_type": "execute_result"
    }
   ],
   "source": [
    "# 전체데이터를 train으로 사용하는 경우\n",
    "x_data, y_data = df_temp_onlypmvalues[:, 1:], df_temp_onlypmvalues[:, 0]\n",
    "print(x_data.shape)\n",
    "print(y_data.shape)\n",
    "x_data"
   ]
  },
  {
   "cell_type": "code",
   "execution_count": 322,
   "metadata": {},
   "outputs": [
    {
     "name": "stdout",
     "output_type": "stream",
     "text": [
      "(24071, 3)\n",
      "(24071, 1)\n"
     ]
    }
   ],
   "source": [
    "scaler_x = MinMaxScaler()\n",
    "x_data = scaler_x.fit_transform(x_data)\n",
    "print(x_data.shape)\n",
    "\n",
    "y_data = y_data.reshape(len(y_data),1)\n",
    "scaler_y = MinMaxScaler()\n",
    "y_data = scaler_y.fit_transform(y_data)\n",
    "print(y_data.shape)"
   ]
  },
  {
   "cell_type": "code",
   "execution_count": 175,
   "metadata": {},
   "outputs": [],
   "source": [
    "# (분석시간을 줄이기 위해)일부데이터를 train으로 사용하는 경우\n",
    "# cnt_sampledata = 100\n",
    "# x_data, y_data = df_temp_onlypmvalues[:cnt_sampledata, 1:], df_temp_onlypmvalues[:cnt_sampledata, 0]"
   ]
  },
  {
   "cell_type": "code",
   "execution_count": null,
   "metadata": {},
   "outputs": [],
   "source": [
    "#### LSTM layer에 입력하기 위해 3차원 데이터로 만들어준다 : reshape(datasize, time steps, features)\n",
    "#### (tip)keras에서 제공하는 RNN(Recurrent Neural Network) layer : SimpleRNN, GRU, LSTM 등\n",
    "#### LSTM : Long Short-Term Memory, 긴 sequence를 기억한다."
   ]
  },
  {
   "cell_type": "code",
   "execution_count": 271,
   "metadata": {},
   "outputs": [
    {
     "name": "stdout",
     "output_type": "stream",
     "text": [
      "(24071, 3)\n",
      "(24071,)\n"
     ]
    }
   ],
   "source": [
    "## 2->3차원으로 변경한다.\n",
    "# x_data = x_data.reshape((x_data.shape[0]), x_data.shape[1],1) ### 2->3차원으로 변경한다.\n",
    "print(x_data.shape)\n",
    "print(y_data.shape)"
   ]
  },
  {
   "cell_type": "code",
   "execution_count": 323,
   "metadata": {},
   "outputs": [
    {
     "data": {
      "text/plain": [
       "array([[0.04347826, 0.03211009, 0.04964539],\n",
       "       [0.04782609, 0.02293578, 0.06382979],\n",
       "       [0.05652174, 0.02293578, 0.06382979],\n",
       "       ...,\n",
       "       [0.04782609, 0.01834862, 0.10638298],\n",
       "       [0.04782609, 0.01834862, 0.10638298],\n",
       "       [0.04782609, 0.01834862, 0.10638298]])"
      ]
     },
     "execution_count": 323,
     "metadata": {},
     "output_type": "execute_result"
    }
   ],
   "source": [
    "#(x)강서,구로,마포 pm\n",
    "x_data"
   ]
  },
  {
   "cell_type": "code",
   "execution_count": 324,
   "metadata": {},
   "outputs": [
    {
     "data": {
      "text/plain": [
       "array([[0.06493506],\n",
       "       [0.07142857],\n",
       "       [0.07792208],\n",
       "       ...,\n",
       "       [0.05844156],\n",
       "       [0.05844156],\n",
       "       [0.05844156]])"
      ]
     },
     "execution_count": 324,
     "metadata": {},
     "output_type": "execute_result"
    }
   ],
   "source": [
    "#(y)양천\n",
    "y_data"
   ]
  },
  {
   "cell_type": "markdown",
   "metadata": {},
   "source": [
    "#### 위까지 전처리 완료 ####"
   ]
  },
  {
   "cell_type": "markdown",
   "metadata": {},
   "source": [
    "### LSTM(RNN) MODEL 생성 ###"
   ]
  },
  {
   "cell_type": "code",
   "execution_count": 325,
   "metadata": {},
   "outputs": [],
   "source": [
    "from keras.layers import Embedding, Dense, LSTM, Dropout, Flatten, \\\n",
    "TimeDistributed, Conv1D, MaxPooling1D\n",
    "\n",
    "from keras.models import Model\n",
    "from keras import Input\n",
    "\n",
    "from keras.models import Sequential\n",
    "from sklearn.model_selection import train_test_split"
   ]
  },
  {
   "cell_type": "markdown",
   "metadata": {},
   "source": [
    "### x_data, y_data를 분리한다 ###\n",
    "### 1) 학습에 사용될 데이터 80% : train(x,y), test(x,y)\n",
    "### 2) 예측(predict)에 사용될 데이터 20% : predict(x,y)"
   ]
  },
  {
   "cell_type": "code",
   "execution_count": 330,
   "metadata": {},
   "outputs": [
    {
     "data": {
      "text/plain": [
       "((15164, 3), (15164, 1), (6499, 3), (6499, 1), (2408, 3), (2408, 1))"
      ]
     },
     "execution_count": 330,
     "metadata": {},
     "output_type": "execute_result"
    }
   ],
   "source": [
    "## data 분류(3가지로 분류) : training(x_train, y_train), test(x_test, y_test), predict(x_predict, y_predict)\n",
    "## 1)예측용 dataset -> 2)training + test\n",
    "## x_train + y_train + x_predict = 24,071\n",
    "x_train, x_predict, y_train, y_predict = train_test_split(x_data, y_data, test_size=0.1, shuffle=False) #시각화를 위해 shuffle=False 옵션 사용\n",
    "x_train, x_test, y_train, y_test = train_test_split(x_train, y_train, test_size=0.3, shuffle=False) #시각화를 위해 shuffle=False 옵션 사용\n",
    "\n",
    "x_train.shape, y_train.shape, x_test.shape, y_test.shape, x_predict.shape, y_predict.shape"
   ]
  },
  {
   "cell_type": "code",
   "execution_count": null,
   "metadata": {},
   "outputs": [],
   "source": [
    "## data 분류(2가지로 분류) : training, test\n",
    "# x_train, x_test, y_train, y_test = train_test_split(x_data, y_data, test_size=0.3, shuffle=False) #시각화를 위해 shuffle=False 옵션 사용\n",
    "# x_train.shape, y_train.shape, x_test.shape, y_test.shape"
   ]
  },
  {
   "cell_type": "code",
   "execution_count": 331,
   "metadata": {},
   "outputs": [
    {
     "name": "stdout",
     "output_type": "stream",
     "text": [
      "Model: \"sequential_30\"\n",
      "_________________________________________________________________\n",
      " Layer (type)                Output Shape              Param #   \n",
      "=================================================================\n",
      " lstm_33 (LSTM)              (None, 3, 32)             4352      \n",
      "                                                                 \n",
      " lstm_34 (LSTM)              (None, 32)                8320      \n",
      "                                                                 \n",
      " dense_48 (Dense)            (None, 16)                528       \n",
      "                                                                 \n",
      " dense_49 (Dense)            (None, 1)                 17        \n",
      "                                                                 \n",
      "=================================================================\n",
      "Total params: 13217 (51.63 KB)\n",
      "Trainable params: 13217 (51.63 KB)\n",
      "Non-trainable params: 0 (0.00 Byte)\n",
      "_________________________________________________________________\n"
     ]
    }
   ],
   "source": [
    "### Model 구성하기 ####\n",
    "#units : dimensionality of the output space, layer안에 있는 node의 수\n",
    "#input_shape(time_steps/column/inputsize, inputdim/features/몇개씩잘라작업하는지)\n",
    "#return_sequences : 시퀀스 마다 출력 여부(False : 마지막, True : 모든 sequence 에서 출력\n",
    "#return_sequences=True 사용하는 경우\n",
    "#-1)LSTM 레이어를 여러 개로 쌓아올릴 때 2)이전 layer의 값이 다음 layer로 들어가도록 하기 위해\n",
    "#stateful : 학습 생플의 가장 마지막 상태가 다음 샘플 학습 시에 입력으로 전달되는지 여부를 정하는 것 \n",
    "#=>각 샘플별 도출된 가중치가 다음 샘플 학습시 초기 상태의 입력 값으로 입력\n",
    "# cc_time_steps = 3 #과거 몇개의 데이터를 볼 것인지 or 몇개의 측정소를 볼 것인가\n",
    "cnt_probes = 3 #참조하는 인근측정소 수\n",
    "cnt_targetProbe = 1 #예측하고자 하는 측정소 수\n",
    "model = Sequential()\n",
    "model.add(LSTM(32, activation='relu', input_shape=(cnt_probes, cnt_targetProbe), return_sequences=True))\n",
    "model.add(LSTM(32, activation='relu', return_sequences=False))\n",
    "# model.add(LSTM(32, activation='relu', batch_input_shape=(cc_time_steps, 1), stateful=True))\n",
    "# model.add(Dense(32, activation='relu'))\n",
    "model.add(Dense(16))\n",
    "model.add(Dense(1))\n",
    "model.summary()"
   ]
  },
  {
   "cell_type": "code",
   "execution_count": 125,
   "metadata": {},
   "outputs": [],
   "source": [
    "# seq_length = 3\n",
    "# model = Sequential()\n",
    "# model.add(LSTM(256), kernel_initializer='he_mormal'\n",
    "#           ,activation='relu', input_shape=(seq_length, 1))\n",
    "# model.add(Dense(64, kernel_initializer='he_normal', activation='relu'))\n",
    "# model.add(Dense(1))\n",
    "# model.compile(loss='mse', optimizer='adam')"
   ]
  },
  {
   "cell_type": "code",
   "execution_count": 332,
   "metadata": {},
   "outputs": [
    {
     "name": "stdout",
     "output_type": "stream",
     "text": [
      "x_train.shape: (15164, 3)\n",
      "y_train.shape: (15164, 1)\n"
     ]
    }
   ],
   "source": [
    "print('x_train.shape:',x_train.shape)\n",
    "print('y_train.shape:',y_train.shape)"
   ]
  },
  {
   "cell_type": "code",
   "execution_count": 334,
   "metadata": {},
   "outputs": [
    {
     "name": "stdout",
     "output_type": "stream",
     "text": [
      "Epoch 1/2\n"
     ]
    },
    {
     "name": "stdout",
     "output_type": "stream",
     "text": [
      "474/474 [==============================] - 53s 49ms/step - loss: 6.6339e-04 - mse: 6.6339e-04 - mae: 0.0186 - val_loss: 7.9379e-04 - val_mse: 7.9379e-04 - val_mae: 0.0196\n",
      "Epoch 2/2\n",
      "474/474 [==============================] - 21s 45ms/step - loss: 6.5413e-04 - mse: 6.5413e-04 - mae: 0.0185 - val_loss: 7.4362e-04 - val_mse: 7.4362e-04 - val_mae: 0.0193\n"
     ]
    },
    {
     "data": {
      "image/png": "[encoded data removed]",
      "text/plain": [
       "<Figure size 640x480 with 1 Axes>"
      ]
     },
     "metadata": {},
     "output_type": "display_data"
    }
   ],
   "source": [
    "### Model compile/학습 실행하기 ####\n",
    "# compile(model 학습방식 설정) : model의 손실 함수(loss function), 최적화 알고리즘(optimizer), 평가 지표(metrics) 등 설정과정\n",
    "# metric : A metric is a function that is used to judge the performance of your model\n",
    "# model.compile(loss='mse', optimizer='adam', metrics=['accuracy'])\n",
    "# epochs : 모델을 학습시킬 반복 횟수(1회 : 모든 x, y 데이터에 대한 학습을 완료 했을때, 2회 : 모든데이터를 1번 학습하고 1번더 학습)\n",
    "\n",
    "model.compile(loss='mse', optimizer='adam', metrics=['mse','mae'])\n",
    "\n",
    "history = model.fit(x_train, y_train, epochs=2, validation_data=(x_test, y_test)) #batch_size=1(default : 32)\n",
    "plt.plot(history.history['mae'])\n",
    "plt.show()"
   ]
  },
  {
   "cell_type": "markdown",
   "metadata": {},
   "source": [
    "### Model로 예측값 얻기 ####"
   ]
  },
  {
   "cell_type": "markdown",
   "metadata": {},
   "source": [
    "### 예측된 데이터(y_pred) 구하기 => transform(scaling)된 data를 원래data로 되돌리기 : inverse_transform"
   ]
  },
  {
   "cell_type": "code",
   "execution_count": 350,
   "metadata": {},
   "outputs": [
    {
     "name": "stdout",
     "output_type": "stream",
     "text": [
      "(6499, 3)\n"
     ]
    },
    {
     "name": "stdout",
     "output_type": "stream",
     "text": [
      "204/204 [==============================] - 3s 14ms/step\n",
      "(6499, 1)\n"
     ]
    },
    {
     "data": {
      "text/plain": [
       "2.9676214472800977"
      ]
     },
     "execution_count": 350,
     "metadata": {},
     "output_type": "execute_result"
    }
   ],
   "source": [
    "print(x_test.shape)\n",
    "\n",
    "y_pred = model.predict(x_test)\n",
    "y_pred\n",
    "\n",
    "print(y_pred.shape)\n",
    "\n",
    "y_predOrigin = scaler_y.inverse_transform(y_pred)\n",
    "y_testOrigin = scaler_y.inverse_transform(y_test)\n",
    "# # print(y_predict[0][0])\n",
    "\n",
    "error = y_testOrigin - y_predOrigin # (모두 원복한)실제값 x_test로 예측한 데이터 y_pred와, 실제값 x_test에 대응한 실제값 y_test의 오차율 비교 \n",
    "abs(error).mean()"
   ]
  },
  {
   "cell_type": "code",
   "execution_count": 349,
   "metadata": {},
   "outputs": [],
   "source": [
    "# x_test = np.array([\n",
    "#         [44, 49, 50]\n",
    "# ])\n",
    "# print(x_test.shape)\n",
    "\n",
    "# x_test = scaler.transform(x_test)\n",
    "# x_test = x_test.reshape((1,3))\n",
    "# # print(x_test.shape)\n",
    "# y_predict = model.predict(x_test)\n",
    "# y_predict = scaler.inverse_transform(y_predict)\n",
    "# print(y_predict)"
   ]
  },
  {
   "cell_type": "code",
   "execution_count": null,
   "metadata": {},
   "outputs": [],
   "source": [
    "#### 연습페이지(아래부터) #####"
   ]
  },
  {
   "cell_type": "code",
   "execution_count": 128,
   "metadata": {},
   "outputs": [
    {
     "name": "stdout",
     "output_type": "stream",
     "text": [
      "x.shape: (4, 3)\n",
      "y.shape: (4,)\n"
     ]
    }
   ],
   "source": [
    "import numpy as np\n",
    "x=np.array([[1,2,3],[2,3,4],[3,4,5],[4,5,6]])\n",
    "y=np.array([4,5,6,7])\n",
    "\n",
    "print('x.shape:',x.shape)# (4,3)\n",
    "print('y.shape:',y.shape)# (4,)"
   ]
  },
  {
   "cell_type": "code",
   "execution_count": 129,
   "metadata": {},
   "outputs": [
    {
     "data": {
      "text/plain": [
       "array([[[1],\n",
       "        [2],\n",
       "        [3]],\n",
       "\n",
       "       [[2],\n",
       "        [3],\n",
       "        [4]],\n",
       "\n",
       "       [[3],\n",
       "        [4],\n",
       "        [5]],\n",
       "\n",
       "       [[4],\n",
       "        [5],\n",
       "        [6]]])"
      ]
     },
     "execution_count": 129,
     "metadata": {},
     "output_type": "execute_result"
    }
   ],
   "source": [
    "x = x.reshape((x.shape[0], x.shape[1],1))\n",
    "x"
   ]
  }
 ],
 "metadata": {
  "kernelspec": {
   "display_name": "Python 3",
   "language": "python",
   "name": "python3"
  },
  "language_info": {
   "codemirror_mode": {
    "name": "ipython",
    "version": 3
   },
   "file_extension": ".py",
   "mimetype": "text/x-python",
   "name": "python",
   "nbconvert_exporter": "python",
   "pygments_lexer": "ipython3",
   "version": "3.10.10"
  }
 },
 "nbformat": 4,
 "nbformat_minor": 2
}
