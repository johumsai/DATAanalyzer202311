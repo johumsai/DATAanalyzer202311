{
 "cells": [
  {
   "cell_type": "code",
   "execution_count": null,
   "metadata": {},
   "outputs": [],
   "source": [
    "#### summary for model's accurace(top 1)\n",
    "#### Dec. 6, 2023.\n",
    "#### 1) scaled data => R2 : 0.8581771955961001\n",
    "#### 2) inversed data(original data) => R2 :  0.8697126121057375"
   ]
  },
  {
   "cell_type": "markdown",
   "metadata": {},
   "source": [
    "### 1) import necessary Librarys"
   ]
  },
  {
   "cell_type": "code",
   "execution_count": 45,
   "metadata": {},
   "outputs": [],
   "source": [
    "import pandas as pd\n",
    "import numpy as np\n",
    "import matplotlib.pyplot as plt\n",
    "from sklearn.preprocessing import MinMaxScaler #how to install : pip install scikit-learn\n",
    "from sklearn.model_selection import train_test_split\n",
    "import tensorflow as tf\n",
    "from sklearn.metrics import r2_score"
   ]
  },
  {
   "cell_type": "code",
   "execution_count": 4,
   "metadata": {},
   "outputs": [],
   "source": [
    "# !pip install matplotlib"
   ]
  },
  {
   "cell_type": "markdown",
   "metadata": {},
   "source": [
    "### #######(Function : split_sequence(data, steps)) LSTM에 입력할 데이터 형식으로 변형"
   ]
  },
  {
   "cell_type": "markdown",
   "metadata": {},
   "source": [
    "##### LSTM layer에 입력하기 위해 3차원 데이터로 만들어준다 : reshape(datasize, time steps, features)\n",
    "##### (tip)keras에서 제공하는 RNN(Recurrent Neural Network) layer : SimpleRNN, GRU, LSTM 등\n",
    "##### LSTM : Long Short-Term Memory, 긴 sequence를 기억한다."
   ]
  },
  {
   "cell_type": "code",
   "execution_count": 5,
   "metadata": {},
   "outputs": [],
   "source": [
    "# steps(n_steps_in), input_dimention(columns)에 따라 data(sequence) 가공하여\n",
    "# x_data, y_data에 담는다\n",
    "# import numpy as np\n",
    " \n",
    "# split a univariate sequence into samples\n",
    "def split_sequence(sequence, n_steps_in):\n",
    " stepsize_data_x = []\n",
    " stepsize_data_y = []\n",
    " for i in range(len(sequence)):\n",
    "        # find the end of this pattern\n",
    "        end_ix = i + n_steps_in\n",
    "        # check if we are beyond the sequence\n",
    "        if end_ix > len(sequence)-1:\n",
    "            break\n",
    "        #gather input(seq_x) and output(seq_y) parts of the pattern\n",
    "        #1)측정소(A,B,C,D)에서 3개측정소(B,C,D)의 5개(step, n_steps_in)행의 PM값을 x로\n",
    "        #2)1개측정소(A)의 step+1번째 행의 1열 PM값을 y로 한다.\n",
    "        #즉)인근 3개측정소의 과거 5시간(steps)동안의 pm값을 x로 하고, target(예측대상) 측정소 1개의 현재(미래) pm값을 y로 함\n",
    "        seq_x, seq_y = sequence[i:end_ix, 1:], sequence[end_ix,0]\n",
    "        stepsize_data_x.append(seq_x)\n",
    "        stepsize_data_y.append(seq_y)\n",
    " stepsize_data_x = np.array(stepsize_data_x)\n",
    " stepsize_data_y = np.array(stepsize_data_y)\n",
    "\n",
    " return stepsize_data_x, stepsize_data_y   \n",
    " # return array(stepsize_data_x), array(stepsize_data_y)"
   ]
  },
  {
   "cell_type": "code",
   "execution_count": 6,
   "metadata": {},
   "outputs": [],
   "source": [
    "# def load_time_series_data(data, sequence_length):\n",
    "#     print(data.shape)\n",
    "#     print(sequence_length)\n",
    "#     window_length = sequence_length + 1\n",
    "#     x_data = []\n",
    "#     y_data = []\n",
    "#     for i in range(0, len(data) - window_length + 1): #0 1 2 3 4 5 6 7 8 9 | 10\n",
    "#         window = data[i:i + window_length, :]\n",
    "#         x_data.append(window[:-1, :])\n",
    "#         y_data.append(window[-1, [-1]])\n",
    "#     x_data = np.array(x_data)\n",
    "#     y_data = np.array(y_data)\n",
    "#     print(x_data.shape)\n",
    "#     print(y_data.shape)\n",
    "\n",
    "#     return x_data, y_data"
   ]
  },
  {
   "cell_type": "markdown",
   "metadata": {},
   "source": [
    "### 2) bring a original data"
   ]
  },
  {
   "cell_type": "code",
   "execution_count": 7,
   "metadata": {},
   "outputs": [
    {
     "data": {
      "text/html": [
       "<div>\n",
       "<style scoped>\n",
       "    .dataframe tbody tr th:only-of-type {\n",
       "        vertical-align: middle;\n",
       "    }\n",
       "\n",
       "    .dataframe tbody tr th {\n",
       "        vertical-align: top;\n",
       "    }\n",
       "\n",
       "    .dataframe thead th {\n",
       "        text-align: right;\n",
       "    }\n",
       "</style>\n",
       "<table border=\"1\" class=\"dataframe\">\n",
       "  <thead>\n",
       "    <tr style=\"text-align: right;\">\n",
       "      <th></th>\n",
       "      <th>일시</th>\n",
       "      <th>측정소명</th>\n",
       "      <th>풍향</th>\n",
       "      <th>풍속</th>\n",
       "      <th>온도</th>\n",
       "      <th>습도</th>\n",
       "      <th>강수량</th>\n",
       "      <th>PM</th>\n",
       "    </tr>\n",
       "  </thead>\n",
       "  <tbody>\n",
       "    <tr>\n",
       "      <th>1</th>\n",
       "      <td>2021-01-01 01:00:00</td>\n",
       "      <td>강남</td>\n",
       "      <td>327.0</td>\n",
       "      <td>1.3</td>\n",
       "      <td>-7.0</td>\n",
       "      <td>55.0</td>\n",
       "      <td>0.0</td>\n",
       "      <td>13.0</td>\n",
       "    </tr>\n",
       "    <tr>\n",
       "      <th>2</th>\n",
       "      <td>2021-01-01 02:00:00</td>\n",
       "      <td>강남</td>\n",
       "      <td>309.0</td>\n",
       "      <td>1.1</td>\n",
       "      <td>-6.8</td>\n",
       "      <td>55.0</td>\n",
       "      <td>0.0</td>\n",
       "      <td>13.0</td>\n",
       "    </tr>\n",
       "    <tr>\n",
       "      <th>3</th>\n",
       "      <td>2021-01-01 03:00:00</td>\n",
       "      <td>강남</td>\n",
       "      <td>45.0</td>\n",
       "      <td>0.9</td>\n",
       "      <td>-7.0</td>\n",
       "      <td>57.0</td>\n",
       "      <td>0.0</td>\n",
       "      <td>12.0</td>\n",
       "    </tr>\n",
       "    <tr>\n",
       "      <th>4</th>\n",
       "      <td>2021-01-01 04:00:00</td>\n",
       "      <td>강남</td>\n",
       "      <td>304.0</td>\n",
       "      <td>0.6</td>\n",
       "      <td>-7.5</td>\n",
       "      <td>57.0</td>\n",
       "      <td>0.0</td>\n",
       "      <td>13.0</td>\n",
       "    </tr>\n",
       "    <tr>\n",
       "      <th>5</th>\n",
       "      <td>2021-01-01 05:00:00</td>\n",
       "      <td>강남</td>\n",
       "      <td>82.0</td>\n",
       "      <td>0.8</td>\n",
       "      <td>-7.7</td>\n",
       "      <td>60.0</td>\n",
       "      <td>0.0</td>\n",
       "      <td>14.0</td>\n",
       "    </tr>\n",
       "  </tbody>\n",
       "</table>\n",
       "</div>"
      ],
      "text/plain": [
       "                    일시 측정소명     풍향   풍속   온도    습도  강수량    PM\n",
       "1  2021-01-01 01:00:00   강남  327.0  1.3 -7.0  55.0  0.0  13.0\n",
       "2  2021-01-01 02:00:00   강남  309.0  1.1 -6.8  55.0  0.0  13.0\n",
       "3  2021-01-01 03:00:00   강남   45.0  0.9 -7.0  57.0  0.0  12.0\n",
       "4  2021-01-01 04:00:00   강남  304.0  0.6 -7.5  57.0  0.0  13.0\n",
       "5  2021-01-01 05:00:00   강남   82.0  0.8 -7.7  60.0  0.0  14.0"
      ]
     },
     "execution_count": 7,
     "metadata": {},
     "output_type": "execute_result"
    }
   ],
   "source": [
    "# df = pd.read_pickle('./total_df.pkl')\n",
    "df = pd.read_pickle('./data/total_df.pkl')\n",
    "df.head()"
   ]
  },
  {
   "cell_type": "markdown",
   "metadata": {},
   "source": [
    "### - do pivot"
   ]
  },
  {
   "cell_type": "code",
   "execution_count": 8,
   "metadata": {},
   "outputs": [
    {
     "name": "stdout",
     "output_type": "stream",
     "text": [
      "<class 'pandas.core.frame.DataFrame'>\n",
      "Index: 24071 entries, 2021-01-01 01:00:00 to 2023-09-30 23:00:00\n",
      "Data columns (total 22 columns):\n",
      " #   Column  Non-Null Count  Dtype  \n",
      "---  ------  --------------  -----  \n",
      " 0   강남      24071 non-null  float64\n",
      " 1   강동      24071 non-null  float64\n",
      " 2   강북      24071 non-null  float64\n",
      " 3   강서      24071 non-null  float64\n",
      " 4   관악      24071 non-null  float64\n",
      " 5   광진      24071 non-null  float64\n",
      " 6   구로      24071 non-null  float64\n",
      " 7   금천      24071 non-null  float64\n",
      " 8   노원      24071 non-null  float64\n",
      " 9   도봉      24071 non-null  float64\n",
      " 10  동대문     24071 non-null  float64\n",
      " 11  마포      24071 non-null  float64\n",
      " 12  서대문     24069 non-null  float64\n",
      " 13  서초      24071 non-null  float64\n",
      " 14  성동      24071 non-null  float64\n",
      " 15  성북      24070 non-null  float64\n",
      " 16  송파      23983 non-null  float64\n",
      " 17  양천      24071 non-null  float64\n",
      " 18  용산      24071 non-null  float64\n",
      " 19  은평      24071 non-null  float64\n",
      " 20  중구      24071 non-null  float64\n",
      " 21  중랑      24071 non-null  float64\n",
      "dtypes: float64(22)\n",
      "memory usage: 4.2+ MB\n"
     ]
    }
   ],
   "source": [
    "pvt22 = df.pivot(index = ['일시'], columns = '측정소명', values = 'PM')\n",
    "pvt22.head()\n",
    "pvt22.info()"
   ]
  },
  {
   "cell_type": "markdown",
   "metadata": {},
   "source": [
    "### - get some part of orginal data"
   ]
  },
  {
   "cell_type": "code",
   "execution_count": 9,
   "metadata": {},
   "outputs": [
    {
     "name": "stdout",
     "output_type": "stream",
     "text": [
      "<class 'pandas.core.frame.DataFrame'>\n",
      "Index: 24071 entries, 2021-01-01 01:00:00 to 2023-09-30 23:00:00\n",
      "Data columns (total 4 columns):\n",
      " #   Column  Non-Null Count  Dtype  \n",
      "---  ------  --------------  -----  \n",
      " 0   양천      24071 non-null  float64\n",
      " 1   강서      24071 non-null  float64\n",
      " 2   구로      24071 non-null  float64\n",
      " 3   마포      24071 non-null  float64\n",
      "dtypes: float64(4)\n",
      "memory usage: 940.3+ KB\n"
     ]
    }
   ],
   "source": [
    "df_group1 = pvt22[['양천','강서','구로','마포']]\n",
    "df_group1.info()\n",
    "# df_group1[:].values"
   ]
  },
  {
   "cell_type": "code",
   "execution_count": 10,
   "metadata": {},
   "outputs": [
    {
     "data": {
      "text/html": [
       "<div>\n",
       "<style scoped>\n",
       "    .dataframe tbody tr th:only-of-type {\n",
       "        vertical-align: middle;\n",
       "    }\n",
       "\n",
       "    .dataframe tbody tr th {\n",
       "        vertical-align: top;\n",
       "    }\n",
       "\n",
       "    .dataframe thead th {\n",
       "        text-align: right;\n",
       "    }\n",
       "</style>\n",
       "<table border=\"1\" class=\"dataframe\">\n",
       "  <thead>\n",
       "    <tr style=\"text-align: right;\">\n",
       "      <th>측정소명</th>\n",
       "      <th>양천</th>\n",
       "      <th>강서</th>\n",
       "      <th>구로</th>\n",
       "      <th>마포</th>\n",
       "    </tr>\n",
       "    <tr>\n",
       "      <th>일시</th>\n",
       "      <th></th>\n",
       "      <th></th>\n",
       "      <th></th>\n",
       "      <th></th>\n",
       "    </tr>\n",
       "  </thead>\n",
       "  <tbody>\n",
       "    <tr>\n",
       "      <th>2021-01-01 01:00:00</th>\n",
       "      <td>11.0</td>\n",
       "      <td>11.0</td>\n",
       "      <td>8.0</td>\n",
       "      <td>8.0</td>\n",
       "    </tr>\n",
       "    <tr>\n",
       "      <th>2021-01-01 02:00:00</th>\n",
       "      <td>12.0</td>\n",
       "      <td>12.0</td>\n",
       "      <td>6.0</td>\n",
       "      <td>10.0</td>\n",
       "    </tr>\n",
       "    <tr>\n",
       "      <th>2021-01-01 03:00:00</th>\n",
       "      <td>13.0</td>\n",
       "      <td>14.0</td>\n",
       "      <td>6.0</td>\n",
       "      <td>10.0</td>\n",
       "    </tr>\n",
       "    <tr>\n",
       "      <th>2021-01-01 04:00:00</th>\n",
       "      <td>12.0</td>\n",
       "      <td>12.0</td>\n",
       "      <td>7.0</td>\n",
       "      <td>10.0</td>\n",
       "    </tr>\n",
       "    <tr>\n",
       "      <th>2021-01-01 05:00:00</th>\n",
       "      <td>13.0</td>\n",
       "      <td>12.0</td>\n",
       "      <td>12.0</td>\n",
       "      <td>10.0</td>\n",
       "    </tr>\n",
       "    <tr>\n",
       "      <th>...</th>\n",
       "      <td>...</td>\n",
       "      <td>...</td>\n",
       "      <td>...</td>\n",
       "      <td>...</td>\n",
       "    </tr>\n",
       "    <tr>\n",
       "      <th>2023-09-30 19:00:00</th>\n",
       "      <td>10.0</td>\n",
       "      <td>12.0</td>\n",
       "      <td>5.0</td>\n",
       "      <td>16.0</td>\n",
       "    </tr>\n",
       "    <tr>\n",
       "      <th>2023-09-30 20:00:00</th>\n",
       "      <td>10.0</td>\n",
       "      <td>12.0</td>\n",
       "      <td>5.0</td>\n",
       "      <td>16.0</td>\n",
       "    </tr>\n",
       "    <tr>\n",
       "      <th>2023-09-30 21:00:00</th>\n",
       "      <td>10.0</td>\n",
       "      <td>12.0</td>\n",
       "      <td>5.0</td>\n",
       "      <td>16.0</td>\n",
       "    </tr>\n",
       "    <tr>\n",
       "      <th>2023-09-30 22:00:00</th>\n",
       "      <td>10.0</td>\n",
       "      <td>12.0</td>\n",
       "      <td>5.0</td>\n",
       "      <td>16.0</td>\n",
       "    </tr>\n",
       "    <tr>\n",
       "      <th>2023-09-30 23:00:00</th>\n",
       "      <td>10.0</td>\n",
       "      <td>12.0</td>\n",
       "      <td>5.0</td>\n",
       "      <td>16.0</td>\n",
       "    </tr>\n",
       "  </tbody>\n",
       "</table>\n",
       "<p>24071 rows × 4 columns</p>\n",
       "</div>"
      ],
      "text/plain": [
       "측정소명                   양천    강서    구로    마포\n",
       "일시                                         \n",
       "2021-01-01 01:00:00  11.0  11.0   8.0   8.0\n",
       "2021-01-01 02:00:00  12.0  12.0   6.0  10.0\n",
       "2021-01-01 03:00:00  13.0  14.0   6.0  10.0\n",
       "2021-01-01 04:00:00  12.0  12.0   7.0  10.0\n",
       "2021-01-01 05:00:00  13.0  12.0  12.0  10.0\n",
       "...                   ...   ...   ...   ...\n",
       "2023-09-30 19:00:00  10.0  12.0   5.0  16.0\n",
       "2023-09-30 20:00:00  10.0  12.0   5.0  16.0\n",
       "2023-09-30 21:00:00  10.0  12.0   5.0  16.0\n",
       "2023-09-30 22:00:00  10.0  12.0   5.0  16.0\n",
       "2023-09-30 23:00:00  10.0  12.0   5.0  16.0\n",
       "\n",
       "[24071 rows x 4 columns]"
      ]
     },
     "execution_count": 10,
     "metadata": {},
     "output_type": "execute_result"
    }
   ],
   "source": [
    "df_group1"
   ]
  },
  {
   "cell_type": "code",
   "execution_count": 11,
   "metadata": {},
   "outputs": [
    {
     "name": "stdout",
     "output_type": "stream",
     "text": [
      "<class 'pandas.core.frame.DataFrame'>\n",
      "Index: 24071 entries, 2021-01-01 01:00:00 to 2023-09-30 23:00:00\n",
      "Data columns (total 4 columns):\n",
      " #   Column  Non-Null Count  Dtype  \n",
      "---  ------  --------------  -----  \n",
      " 0   양천      24071 non-null  float64\n",
      " 1   강서      24071 non-null  float64\n",
      " 2   구로      24071 non-null  float64\n",
      " 3   마포      24071 non-null  float64\n",
      "dtypes: float64(4)\n",
      "memory usage: 940.3+ KB\n"
     ]
    }
   ],
   "source": [
    "df_group1.info()"
   ]
  },
  {
   "cell_type": "markdown",
   "metadata": {},
   "source": [
    "### - get only values of the dataset"
   ]
  },
  {
   "cell_type": "code",
   "execution_count": 12,
   "metadata": {},
   "outputs": [
    {
     "data": {
      "text/plain": [
       "array([[11., 11.,  8.,  8.],\n",
       "       [12., 12.,  6., 10.],\n",
       "       [13., 14.,  6., 10.],\n",
       "       [12., 12.,  7., 10.],\n",
       "       [13., 12., 12., 10.],\n",
       "       [17., 13., 10., 13.],\n",
       "       [15., 13., 11., 13.],\n",
       "       [16., 16., 11., 17.],\n",
       "       [13., 11.,  9., 21.],\n",
       "       [16., 11., 16., 31.]])"
      ]
     },
     "execution_count": 12,
     "metadata": {},
     "output_type": "execute_result"
    }
   ],
   "source": [
    "df_only_pm_values = df_group1[:].values\n",
    "df_only_pm_values[:10]"
   ]
  },
  {
   "cell_type": "markdown",
   "metadata": {},
   "source": [
    "### 3) split datas for test before scaling(train(+validation), test)"
   ]
  },
  {
   "cell_type": "code",
   "execution_count": 13,
   "metadata": {},
   "outputs": [
    {
     "name": "stdout",
     "output_type": "stream",
     "text": [
      "24071\n",
      "21663\n",
      "2408\n"
     ]
    }
   ],
   "source": [
    "cnt_train = int(0.9*len(df_only_pm_values))\n",
    "print(len(df_only_pm_values))\n",
    "# print(cnt_train)\n",
    "df_only_pm_values_for_train = df_only_pm_values[0: cnt_train]\n",
    "df_only_pm_values_for_test = df_only_pm_values[cnt_train:]\n",
    "\n",
    "print(len(df_only_pm_values_for_train))\n",
    "print(len(df_only_pm_values_for_test))"
   ]
  },
  {
   "cell_type": "markdown",
   "metadata": {},
   "source": [
    "### 4) scaling datas before split data in window/steps-size below\n",
    "      -input data : df_only_pm_values_for_train\n",
    "      -output data : data_scaled"
   ]
  },
  {
   "cell_type": "code",
   "execution_count": 14,
   "metadata": {},
   "outputs": [
    {
     "data": {
      "text/plain": [
       "array([[0.06493506, 0.04347826, 0.03211009, 0.04964539],\n",
       "       [0.07142857, 0.04782609, 0.02293578, 0.06382979],\n",
       "       [0.07792208, 0.05652174, 0.02293578, 0.06382979],\n",
       "       ...,\n",
       "       [0.09090909, 0.06521739, 0.04587156, 0.09929078],\n",
       "       [0.07142857, 0.04782609, 0.0412844 , 0.09929078],\n",
       "       [0.07792208, 0.05217391, 0.02293578, 0.07801418]])"
      ]
     },
     "execution_count": 14,
     "metadata": {},
     "output_type": "execute_result"
    }
   ],
   "source": [
    "scaler = MinMaxScaler()\n",
    "data_scaled = scaler.fit_transform(df_only_pm_values_for_train)\n",
    "data_scaled"
   ]
  },
  {
   "cell_type": "markdown",
   "metadata": {},
   "source": [
    "## 5) Split scaled-datas in window/steps-size : \n",
    "### => LSTM의 입력과 출력에 맞게 데이터 조정(함수 : split_sequence, 위에 정의됨)\n",
    "    -input data : data_scaled\n",
    "    -output data : x_data_splited, y_data_splited"
   ]
  },
  {
   "cell_type": "markdown",
   "metadata": {},
   "source": [
    "###    5)-1 함수실행(split_sequence)\n",
    "#### - output_data : x_data_for_lstm, y_data_for_lstm"
   ]
  },
  {
   "cell_type": "code",
   "execution_count": 15,
   "metadata": {},
   "outputs": [
    {
     "name": "stdout",
     "output_type": "stream",
     "text": [
      "(21658, 5, 3)\n",
      "(21658,)\n"
     ]
    }
   ],
   "source": [
    "# choose a number of time steps and input dimention(columns)\n",
    "n_steps_in = 5\n",
    "\n",
    "# split into samples\n",
    "x_data_for_lstm, y_data_for_lstm = split_sequence(data_scaled, n_steps_in)\n",
    "# summarize the data\n",
    "print(x_data_for_lstm.shape)\n",
    "print(y_data_for_lstm.shape)"
   ]
  },
  {
   "cell_type": "code",
   "execution_count": 16,
   "metadata": {},
   "outputs": [
    {
     "data": {
      "text/plain": [
       "array([[[0.04347826, 0.03211009, 0.04964539],\n",
       "        [0.04782609, 0.02293578, 0.06382979],\n",
       "        [0.05652174, 0.02293578, 0.06382979],\n",
       "        [0.04782609, 0.02752294, 0.06382979],\n",
       "        [0.04782609, 0.05045872, 0.06382979]],\n",
       "\n",
       "       [[0.04782609, 0.02293578, 0.06382979],\n",
       "        [0.05652174, 0.02293578, 0.06382979],\n",
       "        [0.04782609, 0.02752294, 0.06382979],\n",
       "        [0.04782609, 0.05045872, 0.06382979],\n",
       "        [0.05217391, 0.0412844 , 0.08510638]],\n",
       "\n",
       "       [[0.05652174, 0.02293578, 0.06382979],\n",
       "        [0.04782609, 0.02752294, 0.06382979],\n",
       "        [0.04782609, 0.05045872, 0.06382979],\n",
       "        [0.05217391, 0.0412844 , 0.08510638],\n",
       "        [0.05217391, 0.04587156, 0.08510638]],\n",
       "\n",
       "       ...,\n",
       "\n",
       "       [[0.0173913 , 0.00417014, 0.03546099],\n",
       "        [0.02173913, 0.00458716, 0.03546099],\n",
       "        [0.04782609, 0.02293578, 0.04255319],\n",
       "        [0.07826087, 0.05504587, 0.10638298],\n",
       "        [0.07826087, 0.06880734, 0.11347518]],\n",
       "\n",
       "       [[0.02173913, 0.00458716, 0.03546099],\n",
       "        [0.04782609, 0.02293578, 0.04255319],\n",
       "        [0.07826087, 0.05504587, 0.10638298],\n",
       "        [0.07826087, 0.06880734, 0.11347518],\n",
       "        [0.06521739, 0.04587156, 0.09929078]],\n",
       "\n",
       "       [[0.04782609, 0.02293578, 0.04255319],\n",
       "        [0.07826087, 0.05504587, 0.10638298],\n",
       "        [0.07826087, 0.06880734, 0.11347518],\n",
       "        [0.06521739, 0.04587156, 0.09929078],\n",
       "        [0.04782609, 0.0412844 , 0.09929078]]])"
      ]
     },
     "execution_count": 16,
     "metadata": {},
     "output_type": "execute_result"
    }
   ],
   "source": [
    "x_data_for_lstm"
   ]
  },
  {
   "cell_type": "code",
   "execution_count": 17,
   "metadata": {},
   "outputs": [
    {
     "data": {
      "text/plain": [
       "0.09090909090909091"
      ]
     },
     "execution_count": 17,
     "metadata": {},
     "output_type": "execute_result"
    }
   ],
   "source": [
    "y_data_for_lstm[1]"
   ]
  },
  {
   "cell_type": "code",
   "execution_count": 18,
   "metadata": {},
   "outputs": [],
   "source": [
    "# df_temp.shift(1)"
   ]
  },
  {
   "cell_type": "code",
   "execution_count": 19,
   "metadata": {},
   "outputs": [],
   "source": [
    "# df_temp1 = np.array(df_temp)"
   ]
  },
  {
   "cell_type": "markdown",
   "metadata": {},
   "source": [
    "### 6) train/validation를 위해 데이터 분할 : 70%train/30%validation data로 분류하기 ###\n",
    "####  - output data : x_train, x_valid/ y_train, y_valid\n",
    "####  - x/y_train, x/y_valid 데이터는 각각 training, validation 용도"
   ]
  },
  {
   "cell_type": "code",
   "execution_count": 20,
   "metadata": {},
   "outputs": [
    {
     "data": {
      "text/plain": [
       "((15160, 5, 3), (15160,), (6498, 5, 3), (6498,))"
      ]
     },
     "execution_count": 20,
     "metadata": {},
     "output_type": "execute_result"
    }
   ],
   "source": [
    "## data 분류(3가지로 분류)\n",
    "## train + valid\n",
    "x_train, x_valid, y_train, y_valid = train_test_split(x_data_for_lstm, y_data_for_lstm, test_size=0.3, shuffle=False)\n",
    "\n",
    "x_train.shape, y_train.shape, x_valid.shape, y_valid.shape\n",
    "# print(x_train.shape + x_valid.shape)\n",
    "# print(y_train.shape + y_valid.shape)"
   ]
  },
  {
   "cell_type": "code",
   "execution_count": 21,
   "metadata": {},
   "outputs": [],
   "source": [
    "# n_train = int(0.9*x_data_for_lstm.shape[0])\n",
    "# train_data_scaled = stock_data_scaled[0: n_train]\n",
    "# train_dates = dates[0: n_train]\n",
    "\n",
    "# test_data_scaled = stock_data_scaled[n_train:]\n",
    "# test_dates = dates[n_train:]"
   ]
  },
  {
   "cell_type": "markdown",
   "metadata": {},
   "source": [
    "### 6) LSTM(RNN) MODEL 생성 ###"
   ]
  },
  {
   "cell_type": "code",
   "execution_count": 22,
   "metadata": {},
   "outputs": [],
   "source": [
    "from keras.layers import Embedding, Dense, LSTM, Dropout, Flatten, \\\n",
    "TimeDistributed, Conv1D, MaxPooling1D\n",
    "\n",
    "from keras.models import Model\n",
    "from keras import Input\n",
    "\n",
    "from keras.models import Sequential\n",
    "from sklearn.model_selection import train_test_split"
   ]
  },
  {
   "cell_type": "code",
   "execution_count": 23,
   "metadata": {},
   "outputs": [
    {
     "data": {
      "text/plain": [
       "5"
      ]
     },
     "execution_count": 23,
     "metadata": {},
     "output_type": "execute_result"
    }
   ],
   "source": [
    "x_train.shape[1]"
   ]
  },
  {
   "cell_type": "code",
   "execution_count": 24,
   "metadata": {},
   "outputs": [
    {
     "data": {
      "text/plain": [
       "3"
      ]
     },
     "execution_count": 24,
     "metadata": {},
     "output_type": "execute_result"
    }
   ],
   "source": [
    "x_train.shape[2]"
   ]
  },
  {
   "cell_type": "code",
   "execution_count": 25,
   "metadata": {},
   "outputs": [
    {
     "name": "stderr",
     "output_type": "stream",
     "text": [
      "2023-12-06 18:38:53.936854: W tensorflow/compiler/xla/stream_executor/platform/default/dso_loader.cc:64] Could not load dynamic library 'libcuda.so.1'; dlerror: libcuda.so.1: cannot open shared object file: No such file or directory\n",
      "2023-12-06 18:38:53.936892: W tensorflow/compiler/xla/stream_executor/cuda/cuda_driver.cc:265] failed call to cuInit: UNKNOWN ERROR (303)\n",
      "2023-12-06 18:38:53.936927: I tensorflow/compiler/xla/stream_executor/cuda/cuda_diagnostics.cc:156] kernel driver does not appear to be running on this host (analyzer-2c4c1df9-a5f0-4304-a8d6-417a1a9d6159-5dbf48ff7c-9fq9n): /proc/driver/nvidia/version does not exist\n",
      "2023-12-06 18:38:53.937351: I tensorflow/core/platform/cpu_feature_guard.cc:193] This TensorFlow binary is optimized with oneAPI Deep Neural Network Library (oneDNN) to use the following CPU instructions in performance-critical operations:  AVX2 AVX512F AVX512_VNNI FMA\n",
      "To enable them in other operations, rebuild TensorFlow with the appropriate compiler flags.\n"
     ]
    },
    {
     "name": "stdout",
     "output_type": "stream",
     "text": [
      "Model: \"sequential\"\n",
      "_________________________________________________________________\n",
      " Layer (type)                Output Shape              Param #   \n",
      "=================================================================\n",
      " lstm (LSTM)                 (None, 5, 64)             17408     \n",
      "                                                                 \n",
      " dropout (Dropout)           (None, 5, 64)             0         \n",
      "                                                                 \n",
      " lstm_1 (LSTM)               (None, 32)                12416     \n",
      "                                                                 \n",
      " dropout_1 (Dropout)         (None, 32)                0         \n",
      "                                                                 \n",
      " dense (Dense)               (None, 16)                528       \n",
      "                                                                 \n",
      " dense_1 (Dense)             (None, 1)                 17        \n",
      "                                                                 \n",
      "=================================================================\n",
      "Total params: 30,369\n",
      "Trainable params: 30,369\n",
      "Non-trainable params: 0\n",
      "_________________________________________________________________\n"
     ]
    }
   ],
   "source": [
    "### Model 구성하기 ####\n",
    "#units : dimensionality of the output space, layer안에 있는 node의 수\n",
    "#input_shape(time_steps/column/inputsize, inputdim/features/몇개씩잘라작업하는지)\n",
    "#return_sequences : 시퀀스 마다 출력 여부(False : 마지막, True : 모든 sequence 에서 출력\n",
    "#return_sequences=True 사용하는 경우\n",
    "#-1)LSTM 레이어를 여러 개로 쌓아올릴 때 2)이전 layer의 값이 다음 layer로 들어가도록 하기 위해\n",
    "#stateful : 학습 생플의 가장 마지막 상태가 다음 샘플 학습 시에 입력으로 전달되는지 여부를 정하는 것 \n",
    "#=>각 샘플별 도출된 가중치가 다음 샘플 학습시 초기 상태의 입력 값으로 입력\n",
    "# cc_time_steps = 3 #과거 몇개의 데이터를 볼 것인지 or 몇개의 측정소를 볼 것인가\n",
    "cnt_steps = x_train.shape[1] #steps수, 과거 참조하는 데이터 시간 수\n",
    "cnt_features = x_train.shape[2] #features수, 참조하는 x의 개수, columns수, 여기서는 참조하는 인근 측정소 수\n",
    "cnt_traget_y = 1 #y의 개수, 예측하고자 하는 target측정소 수\n",
    "\n",
    "model = Sequential()\n",
    "model.add(LSTM(64, activation='relu', input_shape=(cnt_steps, cnt_features), return_sequences=True))\n",
    "model.add(Dropout(0.2))\n",
    "model.add(LSTM(32, activation='relu', return_sequences=False))\n",
    "# model.add(LSTM(32, activation='relu', batch_input_shape=(cc_time_steps, 1), stateful=True))\n",
    "# model.add(Dense(32, activation='relu'))\n",
    "model.add(Dropout(0.2))\n",
    "model.add(Dense(16))\n",
    "model.add(Dense(cnt_traget_y)) #마지막 layer에는 target y의 개수가 된다.\n",
    "model.summary()"
   ]
  },
  {
   "cell_type": "code",
   "execution_count": 26,
   "metadata": {},
   "outputs": [],
   "source": [
    "# seq_length = 3\n",
    "# model = Sequential()\n",
    "# model.add(LSTM(256), kernel_initializer='he_mormal'\n",
    "#           ,activation='relu', input_shape=(seq_length, 1))\n",
    "# model.add(Dense(64, kernel_initializer='he_normal', activation='relu'))\n",
    "# model.add(Dense(1))\n",
    "# model.compile(loss='mse', optimizer='adam')"
   ]
  },
  {
   "cell_type": "code",
   "execution_count": 27,
   "metadata": {},
   "outputs": [
    {
     "name": "stdout",
     "output_type": "stream",
     "text": [
      "Epoch 1/50\n",
      "474/474 [==============================] - 15s 27ms/step - loss: 0.0032 - mse: 0.0032 - mae: 0.0367 - val_loss: 0.0022 - val_mse: 0.0022 - val_mae: 0.0332\n",
      "Epoch 2/50\n",
      "474/474 [==============================] - 13s 27ms/step - loss: 0.0019 - mse: 0.0019 - mae: 0.0296 - val_loss: 0.0018 - val_mse: 0.0018 - val_mae: 0.0305\n",
      "Epoch 3/50\n",
      "474/474 [==============================] - 13s 27ms/step - loss: 0.0017 - mse: 0.0017 - mae: 0.0283 - val_loss: 0.0016 - val_mse: 0.0016 - val_mae: 0.0275\n",
      "Epoch 4/50\n",
      "474/474 [==============================] - 12s 26ms/step - loss: 0.0016 - mse: 0.0016 - mae: 0.0274 - val_loss: 0.0016 - val_mse: 0.0016 - val_mae: 0.0283\n",
      "Epoch 5/50\n",
      "474/474 [==============================] - 12s 25ms/step - loss: 0.0016 - mse: 0.0016 - mae: 0.0271 - val_loss: 0.0015 - val_mse: 0.0015 - val_mae: 0.0269\n",
      "Epoch 6/50\n",
      "474/474 [==============================] - 12s 26ms/step - loss: 0.0015 - mse: 0.0015 - mae: 0.0265 - val_loss: 0.0015 - val_mse: 0.0015 - val_mae: 0.0263\n",
      "Epoch 7/50\n",
      "474/474 [==============================] - 12s 25ms/step - loss: 0.0014 - mse: 0.0014 - mae: 0.0256 - val_loss: 0.0014 - val_mse: 0.0014 - val_mae: 0.0258\n",
      "Epoch 8/50\n",
      "474/474 [==============================] - 12s 25ms/step - loss: 0.0014 - mse: 0.0014 - mae: 0.0264 - val_loss: 0.0015 - val_mse: 0.0015 - val_mae: 0.0291\n",
      "Epoch 9/50\n",
      "474/474 [==============================] - 12s 25ms/step - loss: 0.0014 - mse: 0.0014 - mae: 0.0260 - val_loss: 0.0013 - val_mse: 0.0013 - val_mae: 0.0253\n",
      "Epoch 10/50\n",
      "474/474 [==============================] - 12s 25ms/step - loss: 0.0013 - mse: 0.0013 - mae: 0.0255 - val_loss: 0.0013 - val_mse: 0.0013 - val_mae: 0.0249\n",
      "Epoch 11/50\n",
      "474/474 [==============================] - 11s 24ms/step - loss: 0.0013 - mse: 0.0013 - mae: 0.0253 - val_loss: 0.0015 - val_mse: 0.0015 - val_mae: 0.0291\n",
      "Epoch 12/50\n",
      "474/474 [==============================] - 11s 24ms/step - loss: 0.0014 - mse: 0.0014 - mae: 0.0256 - val_loss: 0.0013 - val_mse: 0.0013 - val_mae: 0.0261\n",
      "Epoch 13/50\n",
      "474/474 [==============================] - 12s 24ms/step - loss: 0.0013 - mse: 0.0013 - mae: 0.0253 - val_loss: 0.0012 - val_mse: 0.0012 - val_mae: 0.0244\n",
      "Epoch 14/50\n",
      "474/474 [==============================] - 11s 23ms/step - loss: 0.0013 - mse: 0.0013 - mae: 0.0252 - val_loss: 0.0013 - val_mse: 0.0013 - val_mae: 0.0248\n",
      "Epoch 15/50\n",
      "474/474 [==============================] - 12s 25ms/step - loss: 0.0013 - mse: 0.0013 - mae: 0.0253 - val_loss: 0.0012 - val_mse: 0.0012 - val_mae: 0.0243\n",
      "Epoch 16/50\n",
      "474/474 [==============================] - 12s 25ms/step - loss: 0.0013 - mse: 0.0013 - mae: 0.0252 - val_loss: 0.0012 - val_mse: 0.0012 - val_mae: 0.0241\n",
      "Epoch 17/50\n",
      "474/474 [==============================] - 12s 25ms/step - loss: 0.0013 - mse: 0.0013 - mae: 0.0250 - val_loss: 0.0012 - val_mse: 0.0012 - val_mae: 0.0244\n",
      "Epoch 18/50\n",
      "474/474 [==============================] - 12s 25ms/step - loss: 0.0014 - mse: 0.0014 - mae: 0.0253 - val_loss: 0.0012 - val_mse: 0.0012 - val_mae: 0.0245\n",
      "Epoch 19/50\n",
      "474/474 [==============================] - 11s 24ms/step - loss: 0.0013 - mse: 0.0013 - mae: 0.0247 - val_loss: 0.0012 - val_mse: 0.0012 - val_mae: 0.0241\n",
      "Epoch 20/50\n",
      "474/474 [==============================] - 11s 24ms/step - loss: 0.0013 - mse: 0.0013 - mae: 0.0249 - val_loss: 0.0012 - val_mse: 0.0012 - val_mae: 0.0252\n",
      "Epoch 21/50\n",
      "474/474 [==============================] - 11s 24ms/step - loss: 0.0013 - mse: 0.0013 - mae: 0.0249 - val_loss: 0.0013 - val_mse: 0.0013 - val_mae: 0.0255\n",
      "Epoch 22/50\n",
      "474/474 [==============================] - 11s 24ms/step - loss: 0.0013 - mse: 0.0013 - mae: 0.0247 - val_loss: 0.0012 - val_mse: 0.0012 - val_mae: 0.0244\n",
      "Epoch 23/50\n",
      "474/474 [==============================] - 12s 25ms/step - loss: 0.0013 - mse: 0.0013 - mae: 0.0248 - val_loss: 0.0013 - val_mse: 0.0013 - val_mae: 0.0251\n",
      "Epoch 24/50\n",
      "474/474 [==============================] - 11s 24ms/step - loss: 0.0012 - mse: 0.0012 - mae: 0.0245 - val_loss: 0.0013 - val_mse: 0.0013 - val_mae: 0.0255\n",
      "Epoch 25/50\n",
      "474/474 [==============================] - 12s 25ms/step - loss: 0.0012 - mse: 0.0012 - mae: 0.0245 - val_loss: 0.0012 - val_mse: 0.0012 - val_mae: 0.0242\n",
      "Epoch 26/50\n",
      "474/474 [==============================] - 11s 24ms/step - loss: 0.0013 - mse: 0.0013 - mae: 0.0247 - val_loss: 0.0011 - val_mse: 0.0011 - val_mae: 0.0236\n",
      "Epoch 27/50\n",
      "474/474 [==============================] - 11s 24ms/step - loss: 0.0012 - mse: 0.0012 - mae: 0.0246 - val_loss: 0.0012 - val_mse: 0.0012 - val_mae: 0.0258\n",
      "Epoch 28/50\n",
      "474/474 [==============================] - 11s 24ms/step - loss: 0.0013 - mse: 0.0013 - mae: 0.0246 - val_loss: 0.0014 - val_mse: 0.0014 - val_mae: 0.0265\n",
      "Epoch 29/50\n",
      "474/474 [==============================] - 12s 26ms/step - loss: 0.0012 - mse: 0.0012 - mae: 0.0244 - val_loss: 0.0012 - val_mse: 0.0012 - val_mae: 0.0247\n",
      "Epoch 30/50\n",
      "474/474 [==============================] - 11s 24ms/step - loss: 0.0012 - mse: 0.0012 - mae: 0.0244 - val_loss: 0.0013 - val_mse: 0.0013 - val_mae: 0.0260\n",
      "Epoch 31/50\n",
      "474/474 [==============================] - 11s 24ms/step - loss: 0.0012 - mse: 0.0012 - mae: 0.0243 - val_loss: 0.0013 - val_mse: 0.0013 - val_mae: 0.0260\n",
      "Epoch 32/50\n",
      "474/474 [==============================] - 11s 24ms/step - loss: 0.0012 - mse: 0.0012 - mae: 0.0245 - val_loss: 0.0014 - val_mse: 0.0014 - val_mae: 0.0285\n",
      "Epoch 33/50\n",
      "474/474 [==============================] - 11s 24ms/step - loss: 0.0012 - mse: 0.0012 - mae: 0.0241 - val_loss: 0.0014 - val_mse: 0.0014 - val_mae: 0.0270\n",
      "Epoch 34/50\n",
      "474/474 [==============================] - 11s 23ms/step - loss: 0.0013 - mse: 0.0013 - mae: 0.0248 - val_loss: 0.0013 - val_mse: 0.0013 - val_mae: 0.0261\n",
      "Epoch 35/50\n",
      "474/474 [==============================] - 11s 23ms/step - loss: 0.0012 - mse: 0.0012 - mae: 0.0242 - val_loss: 0.0012 - val_mse: 0.0012 - val_mae: 0.0248\n",
      "Epoch 36/50\n",
      "474/474 [==============================] - 11s 24ms/step - loss: 0.0012 - mse: 0.0012 - mae: 0.0243 - val_loss: 0.0012 - val_mse: 0.0012 - val_mae: 0.0245\n",
      "Epoch 37/50\n",
      "474/474 [==============================] - 11s 23ms/step - loss: 0.0012 - mse: 0.0012 - mae: 0.0242 - val_loss: 0.0012 - val_mse: 0.0012 - val_mae: 0.0239\n",
      "Epoch 38/50\n",
      "474/474 [==============================] - 11s 23ms/step - loss: 0.0012 - mse: 0.0012 - mae: 0.0242 - val_loss: 0.0013 - val_mse: 0.0013 - val_mae: 0.0252\n",
      "Epoch 39/50\n",
      "474/474 [==============================] - 11s 23ms/step - loss: 0.0012 - mse: 0.0012 - mae: 0.0244 - val_loss: 0.0012 - val_mse: 0.0012 - val_mae: 0.0244\n",
      "Epoch 40/50\n",
      "474/474 [==============================] - 11s 24ms/step - loss: 0.0012 - mse: 0.0012 - mae: 0.0243 - val_loss: 0.0012 - val_mse: 0.0012 - val_mae: 0.0243\n",
      "Epoch 41/50\n",
      "474/474 [==============================] - 11s 24ms/step - loss: 0.0012 - mse: 0.0012 - mae: 0.0245 - val_loss: 0.0013 - val_mse: 0.0013 - val_mae: 0.0252\n",
      "Epoch 42/50\n",
      "474/474 [==============================] - 11s 24ms/step - loss: 0.0012 - mse: 0.0012 - mae: 0.0241 - val_loss: 0.0013 - val_mse: 0.0013 - val_mae: 0.0268\n",
      "Epoch 43/50\n",
      "474/474 [==============================] - 11s 23ms/step - loss: 0.0012 - mse: 0.0012 - mae: 0.0241 - val_loss: 0.0012 - val_mse: 0.0012 - val_mae: 0.0249\n",
      "Epoch 44/50\n",
      "474/474 [==============================] - 11s 23ms/step - loss: 0.0012 - mse: 0.0012 - mae: 0.0242 - val_loss: 0.0014 - val_mse: 0.0014 - val_mae: 0.0250\n",
      "Epoch 45/50\n",
      "474/474 [==============================] - 11s 23ms/step - loss: 0.0012 - mse: 0.0012 - mae: 0.0244 - val_loss: 0.0012 - val_mse: 0.0012 - val_mae: 0.0240\n",
      "Epoch 46/50\n",
      "474/474 [==============================] - 11s 23ms/step - loss: 0.0012 - mse: 0.0012 - mae: 0.0240 - val_loss: 0.0012 - val_mse: 0.0012 - val_mae: 0.0247\n",
      "Epoch 47/50\n",
      "474/474 [==============================] - 11s 24ms/step - loss: 0.0012 - mse: 0.0012 - mae: 0.0242 - val_loss: 0.0012 - val_mse: 0.0012 - val_mae: 0.0239\n",
      "Epoch 48/50\n",
      "474/474 [==============================] - 11s 24ms/step - loss: 0.0012 - mse: 0.0012 - mae: 0.0242 - val_loss: 0.0011 - val_mse: 0.0011 - val_mae: 0.0238\n",
      "Epoch 49/50\n",
      "474/474 [==============================] - 11s 23ms/step - loss: 0.0012 - mse: 0.0012 - mae: 0.0239 - val_loss: 0.0014 - val_mse: 0.0014 - val_mae: 0.0287\n",
      "Epoch 50/50\n",
      "474/474 [==============================] - 11s 23ms/step - loss: 0.0012 - mse: 0.0012 - mae: 0.0242 - val_loss: 0.0012 - val_mse: 0.0012 - val_mae: 0.0243\n"
     ]
    }
   ],
   "source": [
    "### Model compile/학습 실행하기 ####\n",
    "# compile(model 학습방식 설정) : model의 손실 함수(loss function), 최적화 알고리즘(optimizer), 평가 지표(metrics) 등 설정과정\n",
    "# metric : A metric is a function that is used to judge the performance of your model\n",
    "# model.compile(loss='mse', optimizer='adam', metrics=['accuracy'])\n",
    "# epochs : 모델을 학습시킬 반복 횟수(1회 : 모든 x, y 데이터에 대한 학습을 완료 했을때, 2회 : 모든데이터를 1번 학습하고 1번더 학습)\n",
    "\n",
    "model.compile(loss='mse', optimizer='adam', metrics=['mse','mae'])\n",
    "\n",
    "history = model.fit(x_train, y_train, epochs=50, validation_data=(x_valid, y_valid)) #batch_size=1(default : 32)"
   ]
  },
  {
   "cell_type": "code",
   "execution_count": 28,
   "metadata": {},
   "outputs": [
    {
     "data": {
      "image/png": "[encoded data removed]",
      "text/plain": [
       "<Figure size 640x480 with 1 Axes>"
      ]
     },
     "metadata": {},
     "output_type": "display_data"
    }
   ],
   "source": [
    "#위 model의 loss 등 출력\n",
    "plt.plot(history.history['loss'], label='Training loss')\n",
    "plt.plot(history.history['val_loss'], label='Validation loss')\n",
    "plt.legend()\n",
    "plt.show()"
   ]
  },
  {
   "cell_type": "markdown",
   "metadata": {},
   "source": [
    "### 7) Model로 예측값 얻기 ####\n",
    "#### - 주1) Model을 만들때의 입력데이터 구조와 동일한 구조의 테스트데이터를 입력해야 model이 동작\n",
    "#### - 주2) data structure\n",
    "#####     ---- input(입력, 3 Dimention 구조여야 함)의 input_shape : (count, row/steps, column/features)\n",
    "#####     ---- output(출력) : 예측값"
   ]
  },
  {
   "cell_type": "markdown",
   "metadata": {},
   "source": [
    "#### >>> test데이터(df_only_pm_values_for_test) 준비: test데이터는 transform만 수행해야됨 ( fit_transform 아님)\n",
    "#### >>>>> Dimentionality 반드시 일치시켜야 함(tranform할때와, inverse_transform할때"
   ]
  },
  {
   "cell_type": "code",
   "execution_count": 29,
   "metadata": {},
   "outputs": [
    {
     "data": {
      "text/plain": [
       "(2408, 4)"
      ]
     },
     "execution_count": 29,
     "metadata": {},
     "output_type": "execute_result"
    }
   ],
   "source": [
    "df_only_pm_values_for_test.shape"
   ]
  },
  {
   "cell_type": "code",
   "execution_count": 30,
   "metadata": {},
   "outputs": [
    {
     "data": {
      "text/plain": [
       "array([[0.05194805, 0.04782609, 0.02293578, 0.07801418],\n",
       "       [0.08441558, 0.06956522, 0.02752294, 0.07801418],\n",
       "       [0.09090909, 0.07391304, 0.0412844 , 0.09929078],\n",
       "       ...,\n",
       "       [0.05844156, 0.04782609, 0.01834862, 0.10638298],\n",
       "       [0.05844156, 0.04782609, 0.01834862, 0.10638298],\n",
       "       [0.05844156, 0.04782609, 0.01834862, 0.10638298]])"
      ]
     },
     "execution_count": 30,
     "metadata": {},
     "output_type": "execute_result"
    }
   ],
   "source": [
    "#### (1)test데이터 transform 수행\n",
    "test_data_scaled = scaler.transform(df_only_pm_values_for_test)\n",
    "test_data_scaled"
   ]
  },
  {
   "cell_type": "code",
   "execution_count": 31,
   "metadata": {},
   "outputs": [
    {
     "name": "stdout",
     "output_type": "stream",
     "text": [
      "(2403, 5, 3)\n",
      "(2403,)\n"
     ]
    }
   ],
   "source": [
    "#### (2)tranform된 데이터(test_data_scaled) split 수행\n",
    "# choose a number of time steps and input dimention(columns)\n",
    "n_steps_in = 5\n",
    "\n",
    "# split into samples\n",
    "x_test_data_for_lstm_scaled, y_test_data_for_lstm_scaled = split_sequence(test_data_scaled, n_steps_in)\n",
    "# summarize the data\n",
    "print(x_test_data_for_lstm_scaled.shape)\n",
    "print(y_test_data_for_lstm_scaled.shape)"
   ]
  },
  {
   "cell_type": "code",
   "execution_count": 32,
   "metadata": {},
   "outputs": [
    {
     "data": {
      "text/plain": [
       "array([[[0.04782609, 0.02293578, 0.07801418],\n",
       "        [0.06956522, 0.02752294, 0.07801418],\n",
       "        [0.07391304, 0.0412844 , 0.09929078],\n",
       "        [0.06521739, 0.06880734, 0.09929078],\n",
       "        [0.07391304, 0.05045872, 0.10638298]],\n",
       "\n",
       "       [[0.06956522, 0.02752294, 0.07801418],\n",
       "        [0.07391304, 0.0412844 , 0.09929078],\n",
       "        [0.06521739, 0.06880734, 0.09929078],\n",
       "        [0.07391304, 0.05045872, 0.10638298],\n",
       "        [0.07391304, 0.08256881, 0.12056738]],\n",
       "\n",
       "       [[0.07391304, 0.0412844 , 0.09929078],\n",
       "        [0.06521739, 0.06880734, 0.09929078],\n",
       "        [0.07391304, 0.05045872, 0.10638298],\n",
       "        [0.07391304, 0.08256881, 0.12056738],\n",
       "        [0.09130435, 0.08715596, 0.14893617]],\n",
       "\n",
       "       ...,\n",
       "\n",
       "       [[0.04782609, 0.01834862, 0.10638298],\n",
       "        [0.04782609, 0.01834862, 0.10638298],\n",
       "        [0.04782609, 0.01834862, 0.10638298],\n",
       "        [0.04782609, 0.01834862, 0.10638298],\n",
       "        [0.04782609, 0.01834862, 0.10638298]],\n",
       "\n",
       "       [[0.04782609, 0.01834862, 0.10638298],\n",
       "        [0.04782609, 0.01834862, 0.10638298],\n",
       "        [0.04782609, 0.01834862, 0.10638298],\n",
       "        [0.04782609, 0.01834862, 0.10638298],\n",
       "        [0.04782609, 0.01834862, 0.10638298]],\n",
       "\n",
       "       [[0.04782609, 0.01834862, 0.10638298],\n",
       "        [0.04782609, 0.01834862, 0.10638298],\n",
       "        [0.04782609, 0.01834862, 0.10638298],\n",
       "        [0.04782609, 0.01834862, 0.10638298],\n",
       "        [0.04782609, 0.01834862, 0.10638298]]])"
      ]
     },
     "execution_count": 32,
     "metadata": {},
     "output_type": "execute_result"
    }
   ],
   "source": [
    "x_test_data_for_lstm_scaled"
   ]
  },
  {
   "cell_type": "code",
   "execution_count": 33,
   "metadata": {},
   "outputs": [
    {
     "data": {
      "text/plain": [
       "array([0.11688312, 0.14285714, 0.14935065, ..., 0.05844156, 0.05844156,\n",
       "       0.05844156])"
      ]
     },
     "execution_count": 33,
     "metadata": {},
     "output_type": "execute_result"
    }
   ],
   "source": [
    "y_test_data_for_lstm_scaled"
   ]
  },
  {
   "cell_type": "code",
   "execution_count": 34,
   "metadata": {},
   "outputs": [
    {
     "data": {
      "text/plain": [
       "0.1168831168831169"
      ]
     },
     "execution_count": 34,
     "metadata": {},
     "output_type": "execute_result"
    }
   ],
   "source": [
    "y_test_data_for_lstm_scaled[0]"
   ]
  },
  {
   "cell_type": "code",
   "execution_count": 35,
   "metadata": {},
   "outputs": [
    {
     "data": {
      "text/plain": [
       "array([[0.04782609, 0.02293578, 0.07801418],\n",
       "       [0.06956522, 0.02752294, 0.07801418],\n",
       "       [0.07391304, 0.0412844 , 0.09929078],\n",
       "       [0.06521739, 0.06880734, 0.09929078],\n",
       "       [0.07391304, 0.05045872, 0.10638298]])"
      ]
     },
     "execution_count": 35,
     "metadata": {},
     "output_type": "execute_result"
    }
   ],
   "source": [
    "x_test_data_for_lstm_scaled[0]"
   ]
  },
  {
   "cell_type": "markdown",
   "metadata": {},
   "source": [
    "#### 7)[Case 1] (scale된 데이터로 비교) test데이터(x_test_data_for_lstm)로 예측치(y_pred1) 구하고 -> 정확도 비교하기"
   ]
  },
  {
   "cell_type": "markdown",
   "metadata": {
    "tags": []
   },
   "source": [
    "##### (1) test데이터(x_test_data_for_lstm)를 transform\n",
    "##### (2) (1)을 입력으로하여, 예측값(y_pred1) 구하기\n",
    "##### (3) (2)의 예측값(y_pred1)을 inverse_transform => (4) 실제값(y_test)을 비교하여 model 정확도 평가"
   ]
  },
  {
   "cell_type": "code",
   "execution_count": 36,
   "metadata": {},
   "outputs": [
    {
     "data": {
      "text/plain": [
       "(2403, 5, 3)"
      ]
     },
     "execution_count": 36,
     "metadata": {},
     "output_type": "execute_result"
    }
   ],
   "source": [
    "x_test_data_for_lstm_scaled.shape"
   ]
  },
  {
   "cell_type": "code",
   "execution_count": 37,
   "metadata": {},
   "outputs": [
    {
     "data": {
      "text/plain": [
       "(5, 3)"
      ]
     },
     "execution_count": 37,
     "metadata": {},
     "output_type": "execute_result"
    }
   ],
   "source": [
    "x_test_data_for_lstm_scaled[0].shape"
   ]
  },
  {
   "cell_type": "code",
   "execution_count": 38,
   "metadata": {},
   "outputs": [
    {
     "data": {
      "text/plain": [
       "array([[0.04782609, 0.02293578, 0.07801418],\n",
       "       [0.06956522, 0.02752294, 0.07801418],\n",
       "       [0.07391304, 0.0412844 , 0.09929078],\n",
       "       [0.06521739, 0.06880734, 0.09929078],\n",
       "       [0.07391304, 0.05045872, 0.10638298]])"
      ]
     },
     "execution_count": 38,
     "metadata": {},
     "output_type": "execute_result"
    }
   ],
   "source": [
    "x_test_data_for_lstm_scaled[0].reshape(5,3)"
   ]
  },
  {
   "cell_type": "code",
   "execution_count": 39,
   "metadata": {},
   "outputs": [
    {
     "data": {
      "text/plain": [
       "0.1168831168831169"
      ]
     },
     "execution_count": 39,
     "metadata": {},
     "output_type": "execute_result"
    }
   ],
   "source": [
    "y_test_data_for_lstm_scaled[0]"
   ]
  },
  {
   "cell_type": "markdown",
   "metadata": {},
   "source": [
    "#### 예측 -> 정확도 비교하기(scale된 데이터로 비교)"
   ]
  },
  {
   "cell_type": "code",
   "execution_count": 40,
   "metadata": {},
   "outputs": [
    {
     "data": {
      "text/plain": [
       "(2, 5, 3)"
      ]
     },
     "execution_count": 40,
     "metadata": {},
     "output_type": "execute_result"
    }
   ],
   "source": [
    "### 체크용(lstm model 입력값)\n",
    "x_ttest = np.array([\n",
    "    [\n",
    "    [0.1, 0.11, 0.13],\n",
    "    [0.1, 0.11, 0.13],\n",
    "    [0.1, 0.11, 0.13],\n",
    "    [0.1, 0.11, 0.13],\n",
    "    [0.1, 0.11, 0.13]],\n",
    "    [\n",
    "    [0.1, 0.11, 0.13],\n",
    "    [0.1, 0.11, 0.13],\n",
    "    [0.1, 0.11, 0.13],\n",
    "    [0.1, 0.11, 0.13],\n",
    "    [0.1, 0.11, 0.13]]\n",
    "])\n",
    "x_ttest.shape"
   ]
  },
  {
   "cell_type": "code",
   "execution_count": 41,
   "metadata": {},
   "outputs": [
    {
     "name": "stdout",
     "output_type": "stream",
     "text": [
      "1/1 [==============================] - 0s 258ms/step\n",
      "[[0.15156518]\n",
      " [0.15156518]]\n"
     ]
    }
   ],
   "source": [
    "### 체크용(예측값)\n",
    "y_pred1 = model.predict(x_ttest)\n",
    "\n",
    "# y_pred1 = model.predict(x_test_data_for_lstm_scaled[0].reshape(-1,2))\n",
    "# y_pred2 = scaler.inverse_transform(y_pred1)\n",
    "print(y_pred1)"
   ]
  },
  {
   "cell_type": "markdown",
   "metadata": {},
   "source": [
    "### >>>> (1개 데이터에 대하여) 예측 정확도 확인(case 1)"
   ]
  },
  {
   "cell_type": "code",
   "execution_count": 42,
   "metadata": {},
   "outputs": [
    {
     "name": "stdout",
     "output_type": "stream",
     "text": [
      "(5, 3)\n",
      "(1, 5, 3)\n",
      "1/1 [==============================] - 0s 20ms/step\n",
      "y_pred :  0.115106314\n",
      "y_test :  0.1168831168831169\n"
     ]
    }
   ],
   "source": [
    "x_test_sample=x_test_data_for_lstm_scaled[0]\n",
    "print(x_test_sample.shape)\n",
    "x_test_sample_reshape = x_test_sample.reshape(-1, 5, 3)\n",
    "print(x_test_sample_reshape.shape)\n",
    "\n",
    "y_pred1 = model.predict(x_test_sample_reshape)\n",
    "print('y_pred : ', y_pred1[0][0])\n",
    "print('y_test : ', y_test_data_for_lstm_scaled[0])"
   ]
  },
  {
   "cell_type": "markdown",
   "metadata": {},
   "source": [
    "### >>>> (1개 데이터에 대하여) 예측 정확도 확인(case 2)"
   ]
  },
  {
   "cell_type": "code",
   "execution_count": 43,
   "metadata": {},
   "outputs": [
    {
     "name": "stdout",
     "output_type": "stream",
     "text": [
      "76/76 [==============================] - 0s 5ms/step\n",
      "(input)one x data sample :  [[0.04782609 0.02293578 0.07801418]\n",
      " [0.06956522 0.02752294 0.07801418]\n",
      " [0.07391304 0.0412844  0.09929078]\n",
      " [0.06521739 0.06880734 0.09929078]\n",
      " [0.07391304 0.05045872 0.10638298]]\n",
      "(test)one y data :  0.1168831168831169\n",
      "(predict)one y data :  0.115106314\n"
     ]
    }
   ],
   "source": [
    "y_pred1 = model.predict(x_test_data_for_lstm_scaled)\n",
    "print('(input)one x data sample : ', x_test_data_for_lstm_scaled[0])\n",
    "print('(test)one y data : ', y_test_data_for_lstm_scaled[0])\n",
    "print('(predict)one y data : ', y_pred1[0][0])"
   ]
  },
  {
   "cell_type": "markdown",
   "metadata": {},
   "source": [
    "### >>>> (전체 테스트 데이터에 대하여) 예측 정확도 확인(case 3)"
   ]
  },
  {
   "cell_type": "code",
   "execution_count": 46,
   "metadata": {},
   "outputs": [
    {
     "name": "stdout",
     "output_type": "stream",
     "text": [
      "76/76 [==============================] - 0s 5ms/step\n",
      "Mean Squared Error :  0.0006200072118591108\n",
      "Mean absolute error :  0.019088419811585825\n",
      "R2 :  0.8581771955961001\n"
     ]
    }
   ],
   "source": [
    "### (전체 데이터에 대하여) 예측 정확도 확인(case 3)\n",
    "y_pred1 = model.predict(x_test_data_for_lstm_scaled)\n",
    "# print('(input)one x data sample : ', x_test_data_for_lstm_scaled[0])\n",
    "# print('(test)one y data : ', y_test_data_for_lstm_scaled[0])\n",
    "# print('(predict)one y data : ', y_pred1[0])\n",
    "\n",
    "#(2)# model 정확도 평가\n",
    "# model의 정확도(accuracy) 평가(1)\n",
    "# mse : mean((실제값-예측값)^2)\n",
    "from sklearn import metrics\n",
    "print('Mean Squared Error : ', metrics.mean_squared_error(y_test_data_for_lstm_scaled, y_pred1))\n",
    "\n",
    "# model의 정확도(accuracy) 평가(2)\n",
    "# mae : mean(abs(실제값-예측값))\n",
    "print('Mean absolute error : ', metrics.mean_absolute_error(y_test_data_for_lstm_scaled, y_pred1))\n",
    "\n",
    "# R2\n",
    "# from sklearn.metrics import r2_score\n",
    "r2_y_predict = r2_score(y_test_data_for_lstm_scaled, y_pred1)\n",
    "print('R2 : ', r2_y_predict)"
   ]
  },
  {
   "cell_type": "code",
   "execution_count": 49,
   "metadata": {},
   "outputs": [
    {
     "data": {
      "image/png": "[encoded data removed]",
      "text/plain": [
       "<Figure size 640x480 with 1 Axes>"
      ]
     },
     "metadata": {},
     "output_type": "display_data"
    }
   ],
   "source": [
    "x_axis = range(len(y_test_data_for_lstm_scaled))\n",
    "size_data = 100\n",
    "plt.plot(x_axis[:size_data], y_test_data_for_lstm_scaled[:size_data], 'b', x_axis[:size_data], y_pred1[:size_data], 'r')\n",
    "plt.legend(['실제값','예측값'])\n",
    "plt.show()"
   ]
  },
  {
   "cell_type": "markdown",
   "metadata": {},
   "source": [
    "#### 7) [Case 2] (원복하여 비교하기) scaled데이터(y_test_data_for_lstm_scaled, y_pred1)를 원복(inverse) 시킨 후 -> 정확도 비교하기"
   ]
  },
  {
   "cell_type": "code",
   "execution_count": 50,
   "metadata": {},
   "outputs": [
    {
     "data": {
      "text/plain": [
       "(2403,)"
      ]
     },
     "execution_count": 50,
     "metadata": {},
     "output_type": "execute_result"
    }
   ],
   "source": [
    "y_test_data_for_lstm_scaled.shape"
   ]
  },
  {
   "cell_type": "code",
   "execution_count": 51,
   "metadata": {},
   "outputs": [
    {
     "data": {
      "text/plain": [
       "(2403, 1)"
      ]
     },
     "execution_count": 51,
     "metadata": {},
     "output_type": "execute_result"
    }
   ],
   "source": [
    "y_pred1.shape"
   ]
  },
  {
   "cell_type": "code",
   "execution_count": 52,
   "metadata": {},
   "outputs": [
    {
     "data": {
      "text/plain": [
       "array([1, 2, 3, 4])"
      ]
     },
     "execution_count": 52,
     "metadata": {},
     "output_type": "execute_result"
    }
   ],
   "source": [
    "d_ttt = np.array([1,2,3,4,5])\n",
    "d_ttt[0:-1]"
   ]
  },
  {
   "cell_type": "code",
   "execution_count": 54,
   "metadata": {},
   "outputs": [
    {
     "name": "stdout",
     "output_type": "stream",
     "text": [
      "(600, 4)\n"
     ]
    }
   ],
   "source": [
    "# y_test_data_for_lstm_scaled, y_pred1를 원복\n",
    "y_test_data_to_inverse = y_test_data_for_lstm_scaled.reshape(-1,1)\n",
    "y_pred1_to_inverse = y_pred1.reshape(-1,1)\n",
    "# y_pred1_to_inverse.shape, y_test_data_to_inverse.shape\n",
    "\n",
    "cnt_pred_data = len(y_pred1_to_inverse)\n",
    "cnt_columns = df_only_pm_values_for_train.shape[1]\n",
    "ram = cnt_pred_data % cnt_columns\n",
    "# cnt_dif = cnt_columns-ram\n",
    "y_test_data_to_inverse_pre = y_test_data_to_inverse[:cnt_pred_data-ram]\n",
    "y_pred1_to_inverse_pre = y_pred1_to_inverse[:cnt_pred_data-ram]\n",
    "\n",
    "# print(len(y_test_data_to_inverse_pre))\n",
    "# print(len(y_pred1_to_inverse_pre))\n",
    "\n",
    "### inverse_transform을 위해 dimentionality 맞추기(변경)\n",
    "y_test_data_to_inverse_pre_st2 = y_test_data_to_inverse_pre.reshape(-1,cnt_columns)\n",
    "y_pred1_to_inverse_pre_st2 = y_pred1_to_inverse_pre.reshape(-1,cnt_columns)\n",
    "\n",
    "print(y_test_data_to_inverse_pre_st2.shape) # = y_test_data_to_inverse_pre.reshape(-1,cnt_steps,cnt_columns)\n",
    "# y_pred1_to_inverse_pre_st2.shape# = y_pred1_to_inverse_pre.reshape(-1,cnt_steps,cnt_columns)\n",
    "# print(y_test_data_to_inverse_pre_st2)\n",
    "# print(y_pred1_to_inverse_pre_st2)\n",
    "# print(df_only_pm_values_for_train.shape[1])\n",
    "# y_test_data_to_inverse.shape, y_pred1.shape\n",
    "y_testOrigin = scaler.inverse_transform(y_test_data_to_inverse_pre_st2)\n",
    "y_predOrigin = scaler.inverse_transform(y_pred1_to_inverse_pre_st2)"
   ]
  },
  {
   "cell_type": "code",
   "execution_count": 55,
   "metadata": {},
   "outputs": [
    {
     "data": {
      "text/plain": [
       "array([[19.        ],\n",
       "       [33.85714286],\n",
       "       [33.55844156],\n",
       "       ...,\n",
       "       [14.44155844],\n",
       "       [13.74025974],\n",
       "       [ 9.24025974]])"
      ]
     },
     "execution_count": 55,
     "metadata": {},
     "output_type": "execute_result"
    }
   ],
   "source": [
    "### graph를 그리기 위해 1차원으로 변경하기\n",
    "\n",
    "y_testOrigin_1dim = y_testOrigin.reshape(-1,1)\n",
    "y_predOrigin_1dim = y_predOrigin.reshape(-1,1)\n",
    "\n",
    "y_testOrigin_1dim"
   ]
  },
  {
   "cell_type": "code",
   "execution_count": 56,
   "metadata": {},
   "outputs": [
    {
     "name": "stdout",
     "output_type": "stream",
     "text": [
      "-------------------- 실제값(y_test) --------------------\n",
      "[[19.        ]\n",
      " [33.85714286]\n",
      " [33.55844156]\n",
      " ...\n",
      " [14.44155844]\n",
      " [13.74025974]\n",
      " [ 9.24025974]]\n",
      "\n",
      "\n",
      "-------------------- 예측값(y_predict) --------------------\n",
      "[[18.726374 ]\n",
      " [29.899832 ]\n",
      " [32.951996 ]\n",
      " ...\n",
      " [20.868923 ]\n",
      " [19.77186  ]\n",
      " [13.2769375]]\n"
     ]
    }
   ],
   "source": [
    "print('-'*20, '실제값(y_test)','-'*20)\n",
    "print(y_testOrigin_1dim)\n",
    "print('\\n')\n",
    "print('-'*20, '예측값(y_predict)','-'*20)\n",
    "print(y_predOrigin_1dim)"
   ]
  },
  {
   "cell_type": "code",
   "execution_count": 57,
   "metadata": {},
   "outputs": [
    {
     "name": "stdout",
     "output_type": "stream",
     "text": [
      "Mean Squared Error :  22.191280873971543\n",
      "Mean absolute error :  3.5330919011552853\n",
      "R2 :  0.8697126121057375\n"
     ]
    }
   ],
   "source": [
    "# model의 정확도(accuracy) 평가(1)\n",
    "# mse : mean((실제값-예측값)^2)\n",
    "from sklearn import metrics\n",
    "print('Mean Squared Error : ', metrics.mean_squared_error(y_testOrigin_1dim, y_predOrigin_1dim))\n",
    "\n",
    "# model의 정확도(accuracy) 평가(2)\n",
    "# mae : mean(abs(실제값-예측값))\n",
    "print('Mean absolute error : ', metrics.mean_absolute_error(y_testOrigin_1dim, y_predOrigin_1dim))\n",
    "\n",
    "# model의 정확도(accuracy) 평가(3)\n",
    "# R2\n",
    "# from sklearn.metrics import r2_score\n",
    "r2_y_predict = r2_score(y_testOrigin_1dim, y_predOrigin_1dim)\n",
    "print('R2 : ', r2_y_predict)"
   ]
  },
  {
   "cell_type": "code",
   "execution_count": 58,
   "metadata": {},
   "outputs": [
    {
     "data": {
      "image/png": "[encoded data removed]",
      "text/plain": [
       "<Figure size 640x480 with 1 Axes>"
      ]
     },
     "metadata": {},
     "output_type": "display_data"
    }
   ],
   "source": [
    "x_axis = range(len(y_predOrigin_1dim))\n",
    "size_data = 24*3\n",
    "plt.plot(x_axis[:size_data], y_testOrigin_1dim[:size_data], 'b', x_axis[:size_data], y_predOrigin_1dim[:size_data], 'r')\n",
    "plt.legend(['실제값','예측값'])\n",
    "plt.show()"
   ]
  },
  {
   "cell_type": "code",
   "execution_count": 66,
   "metadata": {},
   "outputs": [
    {
     "data": {
      "image/png": "[encoded data removed]",
      "text/plain": [
       "<Figure size 640x480 with 1 Axes>"
      ]
     },
     "metadata": {},
     "output_type": "display_data"
    }
   ],
   "source": [
    "x_axis = range(len(y_predOrigin_1dim))\n",
    "from_size_data = size_data\n",
    "to_size_data = from_size_data + 24*3\n",
    "plt.plot(x_axis[from_size_data:to_size_data], y_testOrigin_1dim[from_size_data:to_size_data], 'b', x_axis[from_size_data:to_size_data], y_predOrigin_1dim[from_size_data:to_size_data], 'r')\n",
    "plt.legend(['실제값','예측값'])\n",
    "plt.show()"
   ]
  },
  {
   "cell_type": "code",
   "execution_count": 67,
   "metadata": {},
   "outputs": [
    {
     "data": {
      "image/png": "[encoded data removed]",
      "text/plain": [
       "<Figure size 640x480 with 1 Axes>"
      ]
     },
     "metadata": {},
     "output_type": "display_data"
    }
   ],
   "source": [
    "x_axis = range(len(y_predOrigin_1dim))\n",
    "from_size_data = to_size_data\n",
    "to_size_data = from_size_data+24*3\n",
    "plt.plot(x_axis[from_size_data:to_size_data], y_testOrigin_1dim[from_size_data:to_size_data], 'b', x_axis[from_size_data:to_size_data], y_predOrigin_1dim[from_size_data:to_size_data], 'r')\n",
    "plt.legend(['실제값','예측값'])\n",
    "plt.show()"
   ]
  },
  {
   "cell_type": "code",
   "execution_count": 68,
   "metadata": {},
   "outputs": [
    {
     "data": {
      "image/png": "[encoded data removed]",
      "text/plain": [
       "<Figure size 640x480 with 1 Axes>"
      ]
     },
     "metadata": {},
     "output_type": "display_data"
    }
   ],
   "source": [
    "x_axis = range(len(y_predOrigin_1dim))\n",
    "from_size_data = to_size_data\n",
    "to_size_data = from_size_data+24*3\n",
    "plt.plot(x_axis[from_size_data:to_size_data], y_testOrigin_1dim[from_size_data:to_size_data], 'b', x_axis[from_size_data:to_size_data], y_predOrigin_1dim[from_size_data:to_size_data], 'r')\n",
    "plt.legend(['실제값','예측값'])\n",
    "plt.show()"
   ]
  },
  {
   "cell_type": "markdown",
   "metadata": {},
   "source": [
    "### 8) 모델 저장하기 ###"
   ]
  },
  {
   "cell_type": "code",
   "execution_count": 60,
   "metadata": {},
   "outputs": [],
   "source": [
    "from keras.models import load_model\n",
    "model.save('model_lstm_predict_pm_value_Tuning231206.h5')"
   ]
  },
  {
   "cell_type": "markdown",
   "metadata": {},
   "source": [
    "#### 참고 #####"
   ]
  }
 ],
 "metadata": {
  "kernelspec": {
   "display_name": "Python 3 (ipykernel)",
   "language": "python",
   "name": "python3"
  },
  "language_info": {
   "codemirror_mode": {
    "name": "ipython",
    "version": 3
   },
   "file_extension": ".py",
   "mimetype": "text/x-python",
   "name": "python",
   "nbconvert_exporter": "python",
   "pygments_lexer": "ipython3",
   "version": "3.7.16"
  },
  "toc-showcode": false
 },
 "nbformat": 4,
 "nbformat_minor": 4
}
